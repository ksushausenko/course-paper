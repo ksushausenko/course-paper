{
 "cells": [
  {
   "cell_type": "code",
   "execution_count": 256,
   "metadata": {},
   "outputs": [],
   "source": [
    "import time \n",
    "import pandas as pd\n",
    "import numpy as np\n",
    "import plotly.graph_objects as go\n",
    "import plotly.figure_factory as ff\n",
    "from scipy.stats import norm\n",
    "import matplotlib.pyplot as plt"
   ]
  },
  {
   "cell_type": "code",
   "execution_count": 257,
   "metadata": {},
   "outputs": [],
   "source": [
    "data_ALV=pd.read_csv('ALV.csv', parse_dates=['DATE'])\n",
    "data_BAS=pd.read_csv('BAS.csv', parse_dates=['DATE'])\n",
    "data_BAYN=pd.read_csv('BAYN.csv',parse_dates=['DATE'])\n",
    "data_BMW=pd.read_csv('BMW.csv',parse_dates=['DATE'])\n",
    "data_DPW=pd.read_csv('DPW.csv',parse_dates=['DATE'])\n",
    "data_DTE=pd.read_csv('DTE.csv',parse_dates=['DATE'])\n",
    "data_LIN=pd.read_csv('LIN.csv',parse_dates=['DATE'])\n",
    "data_SAP=pd.read_csv('SAP.csv',parse_dates=['DATE'])\n",
    "data_SIE=pd.read_csv('SIE.csv',parse_dates=['DATE'])"
   ]
  },
  {
   "cell_type": "code",
   "execution_count": 258,
   "metadata": {},
   "outputs": [],
   "source": [
    "tickers=['ALV', 'BAS', 'BAYN', 'BMW', 'DPW', 'DTE', 'LIN', 'SAP', 'SIE']\n",
    "companies=[data_ALV,data_BAS,data_BAYN,data_BMW,data_DPW,data_DTE,data_LIN,data_SAP,data_SIE]\n",
    "years=[2016,2017,2018,2019,2020]\n",
    "SaleDays = pd.DataFrame()\n",
    "SaleDays['Тикер'] = tickers"
   ]
  },
  {
   "cell_type": "markdown",
   "metadata": {},
   "source": [
    "# 1. Торговые дни"
   ]
  },
  {
   "cell_type": "code",
   "execution_count": 259,
   "metadata": {},
   "outputs": [],
   "source": [
    "for year in years:\n",
    "    rigth_year_count=0\n",
    "    list_year=[]\n",
    "    for com in companies:\n",
    "        right_year_count=com.query(f'DATE >= \"{year}-01-01\" & DATE <= \"{year}-12-31\" ')['DATE'].count()\n",
    "        list_year.append(right_year_count)\n",
    "    SaleDays[str(year)] = list_year"
   ]
  },
  {
   "cell_type": "code",
   "execution_count": 260,
   "metadata": {},
   "outputs": [
    {
     "data": {
      "text/html": [
       "<div>\n",
       "<style scoped>\n",
       "    .dataframe tbody tr th:only-of-type {\n",
       "        vertical-align: middle;\n",
       "    }\n",
       "\n",
       "    .dataframe tbody tr th {\n",
       "        vertical-align: top;\n",
       "    }\n",
       "\n",
       "    .dataframe thead th {\n",
       "        text-align: right;\n",
       "    }\n",
       "</style>\n",
       "<table border=\"1\" class=\"dataframe\">\n",
       "  <thead>\n",
       "    <tr style=\"text-align: right;\">\n",
       "      <th></th>\n",
       "      <th>Тикер</th>\n",
       "      <th>2016</th>\n",
       "      <th>2017</th>\n",
       "      <th>2018</th>\n",
       "      <th>2019</th>\n",
       "      <th>2020</th>\n",
       "    </tr>\n",
       "  </thead>\n",
       "  <tbody>\n",
       "    <tr>\n",
       "      <th>0</th>\n",
       "      <td>ALV</td>\n",
       "      <td>255</td>\n",
       "      <td>252</td>\n",
       "      <td>239</td>\n",
       "      <td>249</td>\n",
       "      <td>253</td>\n",
       "    </tr>\n",
       "    <tr>\n",
       "      <th>1</th>\n",
       "      <td>BAS</td>\n",
       "      <td>255</td>\n",
       "      <td>252</td>\n",
       "      <td>239</td>\n",
       "      <td>249</td>\n",
       "      <td>253</td>\n",
       "    </tr>\n",
       "    <tr>\n",
       "      <th>2</th>\n",
       "      <td>BAYN</td>\n",
       "      <td>255</td>\n",
       "      <td>252</td>\n",
       "      <td>239</td>\n",
       "      <td>249</td>\n",
       "      <td>253</td>\n",
       "    </tr>\n",
       "    <tr>\n",
       "      <th>3</th>\n",
       "      <td>BMW</td>\n",
       "      <td>255</td>\n",
       "      <td>252</td>\n",
       "      <td>249</td>\n",
       "      <td>249</td>\n",
       "      <td>253</td>\n",
       "    </tr>\n",
       "    <tr>\n",
       "      <th>4</th>\n",
       "      <td>DPW</td>\n",
       "      <td>255</td>\n",
       "      <td>252</td>\n",
       "      <td>241</td>\n",
       "      <td>249</td>\n",
       "      <td>252</td>\n",
       "    </tr>\n",
       "    <tr>\n",
       "      <th>5</th>\n",
       "      <td>DTE</td>\n",
       "      <td>255</td>\n",
       "      <td>252</td>\n",
       "      <td>241</td>\n",
       "      <td>249</td>\n",
       "      <td>252</td>\n",
       "    </tr>\n",
       "    <tr>\n",
       "      <th>6</th>\n",
       "      <td>LIN</td>\n",
       "      <td>0</td>\n",
       "      <td>0</td>\n",
       "      <td>0</td>\n",
       "      <td>0</td>\n",
       "      <td>90</td>\n",
       "    </tr>\n",
       "    <tr>\n",
       "      <th>7</th>\n",
       "      <td>SAP</td>\n",
       "      <td>255</td>\n",
       "      <td>252</td>\n",
       "      <td>241</td>\n",
       "      <td>249</td>\n",
       "      <td>252</td>\n",
       "    </tr>\n",
       "    <tr>\n",
       "      <th>8</th>\n",
       "      <td>SIE</td>\n",
       "      <td>255</td>\n",
       "      <td>252</td>\n",
       "      <td>241</td>\n",
       "      <td>249</td>\n",
       "      <td>252</td>\n",
       "    </tr>\n",
       "  </tbody>\n",
       "</table>\n",
       "</div>"
      ],
      "text/plain": [
       "  Тикер  2016  2017  2018  2019  2020\n",
       "0   ALV   255   252   239   249   253\n",
       "1   BAS   255   252   239   249   253\n",
       "2  BAYN   255   252   239   249   253\n",
       "3   BMW   255   252   249   249   253\n",
       "4   DPW   255   252   241   249   252\n",
       "5   DTE   255   252   241   249   252\n",
       "6   LIN     0     0     0     0    90\n",
       "7   SAP   255   252   241   249   252\n",
       "8   SIE   255   252   241   249   252"
      ]
     },
     "execution_count": 260,
     "metadata": {},
     "output_type": "execute_result"
    }
   ],
   "source": [
    "SaleDays"
   ]
  },
  {
   "cell_type": "code",
   "execution_count": 261,
   "metadata": {},
   "outputs": [],
   "source": [
    "SaleDays.to_csv ('Таблица 2. Количество торговых дней.csv')"
   ]
  },
  {
   "cell_type": "code",
   "execution_count": 111,
   "metadata": {},
   "outputs": [],
   "source": [
    "#так как мы не сможем исследовать компанию Linde, удалим ее из полученной таблицы"
   ]
  },
  {
   "cell_type": "code",
   "execution_count": 262,
   "metadata": {},
   "outputs": [],
   "source": [
    "SaleDays_new=SaleDays.drop(index=6)"
   ]
  },
  {
   "cell_type": "code",
   "execution_count": 263,
   "metadata": {},
   "outputs": [
    {
     "data": {
      "text/html": [
       "<div>\n",
       "<style scoped>\n",
       "    .dataframe tbody tr th:only-of-type {\n",
       "        vertical-align: middle;\n",
       "    }\n",
       "\n",
       "    .dataframe tbody tr th {\n",
       "        vertical-align: top;\n",
       "    }\n",
       "\n",
       "    .dataframe thead th {\n",
       "        text-align: right;\n",
       "    }\n",
       "</style>\n",
       "<table border=\"1\" class=\"dataframe\">\n",
       "  <thead>\n",
       "    <tr style=\"text-align: right;\">\n",
       "      <th></th>\n",
       "      <th>Тикер</th>\n",
       "      <th>2016</th>\n",
       "      <th>2017</th>\n",
       "      <th>2018</th>\n",
       "      <th>2019</th>\n",
       "      <th>2020</th>\n",
       "    </tr>\n",
       "  </thead>\n",
       "  <tbody>\n",
       "    <tr>\n",
       "      <th>0</th>\n",
       "      <td>ALV</td>\n",
       "      <td>255</td>\n",
       "      <td>252</td>\n",
       "      <td>239</td>\n",
       "      <td>249</td>\n",
       "      <td>253</td>\n",
       "    </tr>\n",
       "    <tr>\n",
       "      <th>1</th>\n",
       "      <td>BAS</td>\n",
       "      <td>255</td>\n",
       "      <td>252</td>\n",
       "      <td>239</td>\n",
       "      <td>249</td>\n",
       "      <td>253</td>\n",
       "    </tr>\n",
       "    <tr>\n",
       "      <th>2</th>\n",
       "      <td>BAYN</td>\n",
       "      <td>255</td>\n",
       "      <td>252</td>\n",
       "      <td>239</td>\n",
       "      <td>249</td>\n",
       "      <td>253</td>\n",
       "    </tr>\n",
       "    <tr>\n",
       "      <th>3</th>\n",
       "      <td>BMW</td>\n",
       "      <td>255</td>\n",
       "      <td>252</td>\n",
       "      <td>249</td>\n",
       "      <td>249</td>\n",
       "      <td>253</td>\n",
       "    </tr>\n",
       "    <tr>\n",
       "      <th>4</th>\n",
       "      <td>DPW</td>\n",
       "      <td>255</td>\n",
       "      <td>252</td>\n",
       "      <td>241</td>\n",
       "      <td>249</td>\n",
       "      <td>252</td>\n",
       "    </tr>\n",
       "    <tr>\n",
       "      <th>5</th>\n",
       "      <td>DTE</td>\n",
       "      <td>255</td>\n",
       "      <td>252</td>\n",
       "      <td>241</td>\n",
       "      <td>249</td>\n",
       "      <td>252</td>\n",
       "    </tr>\n",
       "    <tr>\n",
       "      <th>7</th>\n",
       "      <td>SAP</td>\n",
       "      <td>255</td>\n",
       "      <td>252</td>\n",
       "      <td>241</td>\n",
       "      <td>249</td>\n",
       "      <td>252</td>\n",
       "    </tr>\n",
       "    <tr>\n",
       "      <th>8</th>\n",
       "      <td>SIE</td>\n",
       "      <td>255</td>\n",
       "      <td>252</td>\n",
       "      <td>241</td>\n",
       "      <td>249</td>\n",
       "      <td>252</td>\n",
       "    </tr>\n",
       "  </tbody>\n",
       "</table>\n",
       "</div>"
      ],
      "text/plain": [
       "  Тикер  2016  2017  2018  2019  2020\n",
       "0   ALV   255   252   239   249   253\n",
       "1   BAS   255   252   239   249   253\n",
       "2  BAYN   255   252   239   249   253\n",
       "3   BMW   255   252   249   249   253\n",
       "4   DPW   255   252   241   249   252\n",
       "5   DTE   255   252   241   249   252\n",
       "7   SAP   255   252   241   249   252\n",
       "8   SIE   255   252   241   249   252"
      ]
     },
     "execution_count": 263,
     "metadata": {},
     "output_type": "execute_result"
    }
   ],
   "source": [
    "SaleDays_new\n"
   ]
  },
  {
   "cell_type": "code",
   "execution_count": 264,
   "metadata": {},
   "outputs": [],
   "source": [
    "SaleDays_new.to_csv ('Таблица 2. Количество торговых дней_изменённая.csv')"
   ]
  },
  {
   "cell_type": "code",
   "execution_count": 265,
   "metadata": {},
   "outputs": [],
   "source": [
    "#обновляем переменную companies и tickers, так как не используем больше Linde"
   ]
  },
  {
   "cell_type": "code",
   "execution_count": 266,
   "metadata": {},
   "outputs": [],
   "source": [
    "tickers=['ALV', 'BAS', 'BAYN', 'BMW', 'DPW', 'DTE', 'SAP', 'SIE']\n",
    "companies=[data_ALV,data_BAS,data_BAYN,data_BMW,data_DPW,data_DTE,data_SAP,data_SIE]"
   ]
  },
  {
   "cell_type": "markdown",
   "metadata": {},
   "source": [
    "# 2.1 Максимальные дневные относительные скачки цен вверх (по годам и акциям)\n"
   ]
  },
  {
   "cell_type": "code",
   "execution_count": 267,
   "metadata": {},
   "outputs": [],
   "source": [
    "max_up=pd.DataFrame() \n",
    "max_up['Ticker'] = tickers\n",
    "\n",
    "for year in years:\n",
    "    d_right=[]\n",
    "    for com in companies:\n",
    "        com['LEAP']=com['CLOSE'].pct_change().round(4)\n",
    "        diap=(com['DATE'] >= pd.to_datetime(f'{year}-01-01')) & (com['DATE'] <= pd.to_datetime(f'{year}-12-31 '))\n",
    "        d_znach=com[diap]['LEAP'].max()\n",
    "        d_right.append(d_znach)\n",
    "    max_up[str(year)]=d_right\n",
    "    \n",
    "max_up.to_csv ('Таблица 3. Маx дневные относительные скачки цен вверх.csv')     "
   ]
  },
  {
   "cell_type": "code",
   "execution_count": 268,
   "metadata": {
    "scrolled": false
   },
   "outputs": [
    {
     "data": {
      "text/html": [
       "<div>\n",
       "<style scoped>\n",
       "    .dataframe tbody tr th:only-of-type {\n",
       "        vertical-align: middle;\n",
       "    }\n",
       "\n",
       "    .dataframe tbody tr th {\n",
       "        vertical-align: top;\n",
       "    }\n",
       "\n",
       "    .dataframe thead th {\n",
       "        text-align: right;\n",
       "    }\n",
       "</style>\n",
       "<table border=\"1\" class=\"dataframe\">\n",
       "  <thead>\n",
       "    <tr style=\"text-align: right;\">\n",
       "      <th></th>\n",
       "      <th>Ticker</th>\n",
       "      <th>2016</th>\n",
       "      <th>2017</th>\n",
       "      <th>2018</th>\n",
       "      <th>2019</th>\n",
       "      <th>2020</th>\n",
       "    </tr>\n",
       "  </thead>\n",
       "  <tbody>\n",
       "    <tr>\n",
       "      <th>0</th>\n",
       "      <td>ALV</td>\n",
       "      <td>0.0437</td>\n",
       "      <td>0.0331</td>\n",
       "      <td>0.0312</td>\n",
       "      <td>0.0339</td>\n",
       "      <td>0.1351</td>\n",
       "    </tr>\n",
       "    <tr>\n",
       "      <th>1</th>\n",
       "      <td>BAS</td>\n",
       "      <td>0.0362</td>\n",
       "      <td>0.0388</td>\n",
       "      <td>0.0394</td>\n",
       "      <td>0.0491</td>\n",
       "      <td>0.0956</td>\n",
       "    </tr>\n",
       "    <tr>\n",
       "      <th>2</th>\n",
       "      <td>BAYN</td>\n",
       "      <td>0.0516</td>\n",
       "      <td>0.0421</td>\n",
       "      <td>0.0522</td>\n",
       "      <td>0.0905</td>\n",
       "      <td>0.0777</td>\n",
       "    </tr>\n",
       "    <tr>\n",
       "      <th>3</th>\n",
       "      <td>BMW</td>\n",
       "      <td>0.0474</td>\n",
       "      <td>0.0299</td>\n",
       "      <td>0.0485</td>\n",
       "      <td>0.0407</td>\n",
       "      <td>0.1254</td>\n",
       "    </tr>\n",
       "    <tr>\n",
       "      <th>4</th>\n",
       "      <td>DPW</td>\n",
       "      <td>0.0521</td>\n",
       "      <td>0.0487</td>\n",
       "      <td>0.0431</td>\n",
       "      <td>0.0396</td>\n",
       "      <td>0.1108</td>\n",
       "    </tr>\n",
       "    <tr>\n",
       "      <th>5</th>\n",
       "      <td>DTE</td>\n",
       "      <td>0.0427</td>\n",
       "      <td>0.0460</td>\n",
       "      <td>0.0347</td>\n",
       "      <td>0.0277</td>\n",
       "      <td>0.0727</td>\n",
       "    </tr>\n",
       "    <tr>\n",
       "      <th>6</th>\n",
       "      <td>SAP</td>\n",
       "      <td>0.0568</td>\n",
       "      <td>0.0295</td>\n",
       "      <td>0.0502</td>\n",
       "      <td>0.1197</td>\n",
       "      <td>0.0804</td>\n",
       "    </tr>\n",
       "    <tr>\n",
       "      <th>7</th>\n",
       "      <td>SIE</td>\n",
       "      <td>0.0862</td>\n",
       "      <td>0.0563</td>\n",
       "      <td>0.0653</td>\n",
       "      <td>0.0508</td>\n",
       "      <td>0.0997</td>\n",
       "    </tr>\n",
       "  </tbody>\n",
       "</table>\n",
       "</div>"
      ],
      "text/plain": [
       "  Ticker    2016    2017    2018    2019    2020\n",
       "0    ALV  0.0437  0.0331  0.0312  0.0339  0.1351\n",
       "1    BAS  0.0362  0.0388  0.0394  0.0491  0.0956\n",
       "2   BAYN  0.0516  0.0421  0.0522  0.0905  0.0777\n",
       "3    BMW  0.0474  0.0299  0.0485  0.0407  0.1254\n",
       "4    DPW  0.0521  0.0487  0.0431  0.0396  0.1108\n",
       "5    DTE  0.0427  0.0460  0.0347  0.0277  0.0727\n",
       "6    SAP  0.0568  0.0295  0.0502  0.1197  0.0804\n",
       "7    SIE  0.0862  0.0563  0.0653  0.0508  0.0997"
      ]
     },
     "execution_count": 268,
     "metadata": {},
     "output_type": "execute_result"
    }
   ],
   "source": [
    "max_up"
   ]
  },
  {
   "cell_type": "markdown",
   "metadata": {},
   "source": [
    "# 2.2 Максимальные дневные относительные скачки цен вниз (по годам и акциям)\n"
   ]
  },
  {
   "cell_type": "code",
   "execution_count": 269,
   "metadata": {},
   "outputs": [],
   "source": [
    "max_down=pd.DataFrame() \n",
    "max_down['Ticker'] = tickers\n",
    "\n",
    "for year in years:\n",
    "    d_right=[]\n",
    "    for com in companies:\n",
    "        com['LEAP']=com['CLOSE'].pct_change().round(4)\n",
    "        diap=(com['DATE'] >= pd.to_datetime(f'{year}-01-01')) & (com['DATE'] <= pd.to_datetime(f'{year}-12-31 '))\n",
    "        d_znach=com[diap]['LEAP'].min()\n",
    "        d_right.append(d_znach)\n",
    "    max_down[str(year)]=d_right\n",
    "            \n",
    "max_down.to_csv ('Таблица 4. Мax дневные относительные скачки цен вниз.csv')        "
   ]
  },
  {
   "cell_type": "code",
   "execution_count": 270,
   "metadata": {
    "scrolled": true
   },
   "outputs": [
    {
     "data": {
      "text/html": [
       "<div>\n",
       "<style scoped>\n",
       "    .dataframe tbody tr th:only-of-type {\n",
       "        vertical-align: middle;\n",
       "    }\n",
       "\n",
       "    .dataframe tbody tr th {\n",
       "        vertical-align: top;\n",
       "    }\n",
       "\n",
       "    .dataframe thead th {\n",
       "        text-align: right;\n",
       "    }\n",
       "</style>\n",
       "<table border=\"1\" class=\"dataframe\">\n",
       "  <thead>\n",
       "    <tr style=\"text-align: right;\">\n",
       "      <th></th>\n",
       "      <th>Ticker</th>\n",
       "      <th>2016</th>\n",
       "      <th>2017</th>\n",
       "      <th>2018</th>\n",
       "      <th>2019</th>\n",
       "      <th>2020</th>\n",
       "    </tr>\n",
       "  </thead>\n",
       "  <tbody>\n",
       "    <tr>\n",
       "      <th>0</th>\n",
       "      <td>ALV</td>\n",
       "      <td>-0.1039</td>\n",
       "      <td>-0.0220</td>\n",
       "      <td>-0.0497</td>\n",
       "      <td>-0.0552</td>\n",
       "      <td>-0.1423</td>\n",
       "    </tr>\n",
       "    <tr>\n",
       "      <th>1</th>\n",
       "      <td>BAS</td>\n",
       "      <td>-0.0668</td>\n",
       "      <td>-0.0268</td>\n",
       "      <td>-0.0442</td>\n",
       "      <td>-0.0533</td>\n",
       "      <td>-0.1059</td>\n",
       "    </tr>\n",
       "    <tr>\n",
       "      <th>2</th>\n",
       "      <td>BAYN</td>\n",
       "      <td>-0.0820</td>\n",
       "      <td>-0.0410</td>\n",
       "      <td>-0.1070</td>\n",
       "      <td>-0.0993</td>\n",
       "      <td>-0.1215</td>\n",
       "    </tr>\n",
       "    <tr>\n",
       "      <th>3</th>\n",
       "      <td>BMW</td>\n",
       "      <td>-0.0753</td>\n",
       "      <td>-0.0320</td>\n",
       "      <td>-0.0560</td>\n",
       "      <td>-0.0523</td>\n",
       "      <td>-0.1208</td>\n",
       "    </tr>\n",
       "    <tr>\n",
       "      <th>4</th>\n",
       "      <td>DPW</td>\n",
       "      <td>-0.0701</td>\n",
       "      <td>-0.0384</td>\n",
       "      <td>-0.0706</td>\n",
       "      <td>-0.0374</td>\n",
       "      <td>-0.1144</td>\n",
       "    </tr>\n",
       "    <tr>\n",
       "      <th>5</th>\n",
       "      <td>DTE</td>\n",
       "      <td>-0.0519</td>\n",
       "      <td>-0.0322</td>\n",
       "      <td>-0.0512</td>\n",
       "      <td>-0.0470</td>\n",
       "      <td>-0.0928</td>\n",
       "    </tr>\n",
       "    <tr>\n",
       "      <th>6</th>\n",
       "      <td>SAP</td>\n",
       "      <td>-0.0563</td>\n",
       "      <td>-0.0346</td>\n",
       "      <td>-0.0608</td>\n",
       "      <td>-0.0537</td>\n",
       "      <td>-0.2237</td>\n",
       "    </tr>\n",
       "    <tr>\n",
       "      <th>7</th>\n",
       "      <td>SIE</td>\n",
       "      <td>-0.0741</td>\n",
       "      <td>-0.0373</td>\n",
       "      <td>-0.0494</td>\n",
       "      <td>-0.0412</td>\n",
       "      <td>-0.1131</td>\n",
       "    </tr>\n",
       "  </tbody>\n",
       "</table>\n",
       "</div>"
      ],
      "text/plain": [
       "  Ticker    2016    2017    2018    2019    2020\n",
       "0    ALV -0.1039 -0.0220 -0.0497 -0.0552 -0.1423\n",
       "1    BAS -0.0668 -0.0268 -0.0442 -0.0533 -0.1059\n",
       "2   BAYN -0.0820 -0.0410 -0.1070 -0.0993 -0.1215\n",
       "3    BMW -0.0753 -0.0320 -0.0560 -0.0523 -0.1208\n",
       "4    DPW -0.0701 -0.0384 -0.0706 -0.0374 -0.1144\n",
       "5    DTE -0.0519 -0.0322 -0.0512 -0.0470 -0.0928\n",
       "6    SAP -0.0563 -0.0346 -0.0608 -0.0537 -0.2237\n",
       "7    SIE -0.0741 -0.0373 -0.0494 -0.0412 -0.1131"
      ]
     },
     "execution_count": 270,
     "metadata": {},
     "output_type": "execute_result"
    }
   ],
   "source": [
    "max_down"
   ]
  },
  {
   "cell_type": "markdown",
   "metadata": {},
   "source": [
    "# 3.1 График цен для акций с максимальным однодневным снижением цены - SAP"
   ]
  },
  {
   "cell_type": "code",
   "execution_count": 271,
   "metadata": {},
   "outputs": [
    {
     "data": {
      "text/html": [
       "<div>\n",
       "<style scoped>\n",
       "    .dataframe tbody tr th:only-of-type {\n",
       "        vertical-align: middle;\n",
       "    }\n",
       "\n",
       "    .dataframe tbody tr th {\n",
       "        vertical-align: top;\n",
       "    }\n",
       "\n",
       "    .dataframe thead th {\n",
       "        text-align: right;\n",
       "    }\n",
       "</style>\n",
       "<table border=\"1\" class=\"dataframe\">\n",
       "  <thead>\n",
       "    <tr style=\"text-align: right;\">\n",
       "      <th></th>\n",
       "      <th>TICKER</th>\n",
       "      <th>PER</th>\n",
       "      <th>DATE</th>\n",
       "      <th>TIME</th>\n",
       "      <th>OPEN</th>\n",
       "      <th>HIGH</th>\n",
       "      <th>LOW</th>\n",
       "      <th>CLOSE</th>\n",
       "      <th>VOL</th>\n",
       "      <th>LEAP</th>\n",
       "    </tr>\n",
       "  </thead>\n",
       "  <tbody>\n",
       "    <tr>\n",
       "      <th>0</th>\n",
       "      <td>SAP</td>\n",
       "      <td>D</td>\n",
       "      <td>2016-01-04</td>\n",
       "      <td>0</td>\n",
       "      <td>71.50</td>\n",
       "      <td>71.76</td>\n",
       "      <td>70.10</td>\n",
       "      <td>70.58</td>\n",
       "      <td>4570793</td>\n",
       "      <td>NaN</td>\n",
       "    </tr>\n",
       "    <tr>\n",
       "      <th>1</th>\n",
       "      <td>SAP</td>\n",
       "      <td>D</td>\n",
       "      <td>2016-01-05</td>\n",
       "      <td>0</td>\n",
       "      <td>71.74</td>\n",
       "      <td>71.74</td>\n",
       "      <td>70.17</td>\n",
       "      <td>71.43</td>\n",
       "      <td>2771848</td>\n",
       "      <td>0.0120</td>\n",
       "    </tr>\n",
       "    <tr>\n",
       "      <th>2</th>\n",
       "      <td>SAP</td>\n",
       "      <td>D</td>\n",
       "      <td>2016-01-06</td>\n",
       "      <td>0</td>\n",
       "      <td>73.50</td>\n",
       "      <td>73.78</td>\n",
       "      <td>71.24</td>\n",
       "      <td>72.05</td>\n",
       "      <td>3767568</td>\n",
       "      <td>0.0087</td>\n",
       "    </tr>\n",
       "    <tr>\n",
       "      <th>3</th>\n",
       "      <td>SAP</td>\n",
       "      <td>D</td>\n",
       "      <td>2016-01-07</td>\n",
       "      <td>0</td>\n",
       "      <td>69.60</td>\n",
       "      <td>71.94</td>\n",
       "      <td>69.50</td>\n",
       "      <td>71.34</td>\n",
       "      <td>4636705</td>\n",
       "      <td>-0.0099</td>\n",
       "    </tr>\n",
       "    <tr>\n",
       "      <th>4</th>\n",
       "      <td>SAP</td>\n",
       "      <td>D</td>\n",
       "      <td>2016-01-08</td>\n",
       "      <td>0</td>\n",
       "      <td>71.90</td>\n",
       "      <td>72.48</td>\n",
       "      <td>71.03</td>\n",
       "      <td>71.05</td>\n",
       "      <td>4104441</td>\n",
       "      <td>-0.0041</td>\n",
       "    </tr>\n",
       "    <tr>\n",
       "      <th>...</th>\n",
       "      <td>...</td>\n",
       "      <td>...</td>\n",
       "      <td>...</td>\n",
       "      <td>...</td>\n",
       "      <td>...</td>\n",
       "      <td>...</td>\n",
       "      <td>...</td>\n",
       "      <td>...</td>\n",
       "      <td>...</td>\n",
       "      <td>...</td>\n",
       "    </tr>\n",
       "    <tr>\n",
       "      <th>1244</th>\n",
       "      <td>SAP</td>\n",
       "      <td>D</td>\n",
       "      <td>2020-12-22</td>\n",
       "      <td>0</td>\n",
       "      <td>101.54</td>\n",
       "      <td>103.98</td>\n",
       "      <td>101.50</td>\n",
       "      <td>103.62</td>\n",
       "      <td>164428</td>\n",
       "      <td>0.0105</td>\n",
       "    </tr>\n",
       "    <tr>\n",
       "      <th>1245</th>\n",
       "      <td>SAP</td>\n",
       "      <td>D</td>\n",
       "      <td>2020-12-23</td>\n",
       "      <td>0</td>\n",
       "      <td>103.30</td>\n",
       "      <td>104.16</td>\n",
       "      <td>103.02</td>\n",
       "      <td>103.66</td>\n",
       "      <td>147954</td>\n",
       "      <td>0.0004</td>\n",
       "    </tr>\n",
       "    <tr>\n",
       "      <th>1246</th>\n",
       "      <td>SAP</td>\n",
       "      <td>D</td>\n",
       "      <td>2020-12-28</td>\n",
       "      <td>0</td>\n",
       "      <td>104.98</td>\n",
       "      <td>107.00</td>\n",
       "      <td>104.34</td>\n",
       "      <td>106.76</td>\n",
       "      <td>318651</td>\n",
       "      <td>0.0299</td>\n",
       "    </tr>\n",
       "    <tr>\n",
       "      <th>1247</th>\n",
       "      <td>SAP</td>\n",
       "      <td>D</td>\n",
       "      <td>2020-12-29</td>\n",
       "      <td>0</td>\n",
       "      <td>107.50</td>\n",
       "      <td>108.00</td>\n",
       "      <td>106.00</td>\n",
       "      <td>106.46</td>\n",
       "      <td>362539</td>\n",
       "      <td>-0.0028</td>\n",
       "    </tr>\n",
       "    <tr>\n",
       "      <th>1248</th>\n",
       "      <td>SAP</td>\n",
       "      <td>D</td>\n",
       "      <td>2020-12-30</td>\n",
       "      <td>0</td>\n",
       "      <td>107.42</td>\n",
       "      <td>107.66</td>\n",
       "      <td>106.66</td>\n",
       "      <td>107.52</td>\n",
       "      <td>131912</td>\n",
       "      <td>0.0100</td>\n",
       "    </tr>\n",
       "  </tbody>\n",
       "</table>\n",
       "<p>1249 rows × 10 columns</p>\n",
       "</div>"
      ],
      "text/plain": [
       "     TICKER PER       DATE  TIME    OPEN    HIGH     LOW   CLOSE      VOL  \\\n",
       "0       SAP   D 2016-01-04     0   71.50   71.76   70.10   70.58  4570793   \n",
       "1       SAP   D 2016-01-05     0   71.74   71.74   70.17   71.43  2771848   \n",
       "2       SAP   D 2016-01-06     0   73.50   73.78   71.24   72.05  3767568   \n",
       "3       SAP   D 2016-01-07     0   69.60   71.94   69.50   71.34  4636705   \n",
       "4       SAP   D 2016-01-08     0   71.90   72.48   71.03   71.05  4104441   \n",
       "...     ...  ..        ...   ...     ...     ...     ...     ...      ...   \n",
       "1244    SAP   D 2020-12-22     0  101.54  103.98  101.50  103.62   164428   \n",
       "1245    SAP   D 2020-12-23     0  103.30  104.16  103.02  103.66   147954   \n",
       "1246    SAP   D 2020-12-28     0  104.98  107.00  104.34  106.76   318651   \n",
       "1247    SAP   D 2020-12-29     0  107.50  108.00  106.00  106.46   362539   \n",
       "1248    SAP   D 2020-12-30     0  107.42  107.66  106.66  107.52   131912   \n",
       "\n",
       "        LEAP  \n",
       "0        NaN  \n",
       "1     0.0120  \n",
       "2     0.0087  \n",
       "3    -0.0099  \n",
       "4    -0.0041  \n",
       "...      ...  \n",
       "1244  0.0105  \n",
       "1245  0.0004  \n",
       "1246  0.0299  \n",
       "1247 -0.0028  \n",
       "1248  0.0100  \n",
       "\n",
       "[1249 rows x 10 columns]"
      ]
     },
     "execution_count": 271,
     "metadata": {},
     "output_type": "execute_result"
    }
   ],
   "source": [
    "data_SAP"
   ]
  },
  {
   "cell_type": "code",
   "execution_count": 272,
   "metadata": {},
   "outputs": [
    {
     "data": {
      "image/png": "[encoded data removed]",
      "text/plain": [
       "<Figure size 1296x576 with 1 Axes>"
      ]
     },
     "metadata": {
      "needs_background": "light"
     },
     "output_type": "display_data"
    }
   ],
   "source": [
    "y=data_SAP['CLOSE']\n",
    "x=np.linspace(2016,2021,len(y))\n",
    "fig, ax = plt.subplots(figsize=(18, 8)) \n",
    "plt.grid(True)\n",
    "plt.plot(x, y, label='Цена закрытия компании SAP')\n",
    "plt.legend(borderaxespad=2, fontsize=14, borderpad = 1.7)\n",
    "plt.ylabel('Цена, руб.', size=14) \n",
    "plt.title('Рис 1. График цен закрытия компании SAP', size=16, pad = 19, fontfamily = 'serif', fontstyle = 'italic') \n",
    "plt.show()"
   ]
  },
  {
   "cell_type": "markdown",
   "metadata": {},
   "source": [
    "# 3.2 График цен для акций с максимальным однодневным повышением цены - Allianz"
   ]
  },
  {
   "cell_type": "code",
   "execution_count": 273,
   "metadata": {},
   "outputs": [
    {
     "data": {
      "image/png": "[encoded data removed]",
      "text/plain": [
       "<Figure size 1296x576 with 1 Axes>"
      ]
     },
     "metadata": {
      "needs_background": "light"
     },
     "output_type": "display_data"
    }
   ],
   "source": [
    "y=data_ALV['CLOSE']\n",
    "x=np.linspace(2016,2021,len(y))\n",
    "fig, ax = plt.subplots(figsize=(18, 8)) \n",
    "plt.grid(True)\n",
    "plt.plot(x, y, label='Цена закрытия компании ALV')\n",
    "plt.legend(borderaxespad=2, fontsize=14, borderpad = 1.7)\n",
    "plt.ylabel('Цена, руб.', size=14) \n",
    "plt.title('Рис 2. График цен закрытия компании ALV', size=16, pad = 19, fontfamily = 'serif', fontstyle = 'italic') \n",
    "plt.show()"
   ]
  },
  {
   "cell_type": "markdown",
   "metadata": {},
   "source": [
    "## давайте удалим все ненужные для дальнейшего анализы столбцы по каждой компании - PER, Time"
   ]
  },
  {
   "cell_type": "code",
   "execution_count": 274,
   "metadata": {},
   "outputs": [],
   "source": [
    "data_ALV=data_ALV.drop([\"PER\",\"TIME\"], axis=1)\n",
    "data_BAS=data_BAS.drop([\"PER\",\"TIME\"], axis=1)\n",
    "data_BAYN=data_BAYN.drop([\"PER\",\"TIME\"], axis=1)\n",
    "data_BMW=data_BMW.drop([\"PER\",\"TIME\"], axis=1)\n",
    "data_DPW=data_DPW.drop([\"PER\",\"TIME\"], axis=1)\n",
    "data_DTE=data_DTE.drop([\"PER\",\"TIME\"], axis=1)\n",
    "data_SAP=data_SAP.drop([\"PER\",\"TIME\"], axis=1)\n",
    "data_SIE=data_SIE.drop([\"PER\",\"TIME\"], axis=1)"
   ]
  },
  {
   "cell_type": "code",
   "execution_count": 275,
   "metadata": {
    "scrolled": true
   },
   "outputs": [
    {
     "data": {
      "text/html": [
       "<div>\n",
       "<style scoped>\n",
       "    .dataframe tbody tr th:only-of-type {\n",
       "        vertical-align: middle;\n",
       "    }\n",
       "\n",
       "    .dataframe tbody tr th {\n",
       "        vertical-align: top;\n",
       "    }\n",
       "\n",
       "    .dataframe thead th {\n",
       "        text-align: right;\n",
       "    }\n",
       "</style>\n",
       "<table border=\"1\" class=\"dataframe\">\n",
       "  <thead>\n",
       "    <tr style=\"text-align: right;\">\n",
       "      <th></th>\n",
       "      <th>TICKER</th>\n",
       "      <th>DATE</th>\n",
       "      <th>OPEN</th>\n",
       "      <th>HIGH</th>\n",
       "      <th>LOW</th>\n",
       "      <th>CLOSE</th>\n",
       "      <th>VOL</th>\n",
       "      <th>LEAP</th>\n",
       "    </tr>\n",
       "  </thead>\n",
       "  <tbody>\n",
       "    <tr>\n",
       "      <th>0</th>\n",
       "      <td>SIE</td>\n",
       "      <td>2016-01-04</td>\n",
       "      <td>88.09</td>\n",
       "      <td>88.09</td>\n",
       "      <td>85.21</td>\n",
       "      <td>85.53</td>\n",
       "      <td>4326103</td>\n",
       "      <td>NaN</td>\n",
       "    </tr>\n",
       "    <tr>\n",
       "      <th>1</th>\n",
       "      <td>SIE</td>\n",
       "      <td>2016-01-05</td>\n",
       "      <td>85.50</td>\n",
       "      <td>86.35</td>\n",
       "      <td>85.00</td>\n",
       "      <td>86.07</td>\n",
       "      <td>2649739</td>\n",
       "      <td>0.0063</td>\n",
       "    </tr>\n",
       "    <tr>\n",
       "      <th>2</th>\n",
       "      <td>SIE</td>\n",
       "      <td>2016-01-06</td>\n",
       "      <td>85.51</td>\n",
       "      <td>85.78</td>\n",
       "      <td>84.45</td>\n",
       "      <td>85.73</td>\n",
       "      <td>2509210</td>\n",
       "      <td>-0.0040</td>\n",
       "    </tr>\n",
       "    <tr>\n",
       "      <th>3</th>\n",
       "      <td>SIE</td>\n",
       "      <td>2016-01-07</td>\n",
       "      <td>83.68</td>\n",
       "      <td>84.61</td>\n",
       "      <td>82.75</td>\n",
       "      <td>84.09</td>\n",
       "      <td>4010217</td>\n",
       "      <td>-0.0191</td>\n",
       "    </tr>\n",
       "    <tr>\n",
       "      <th>4</th>\n",
       "      <td>SIE</td>\n",
       "      <td>2016-01-08</td>\n",
       "      <td>84.75</td>\n",
       "      <td>85.66</td>\n",
       "      <td>83.33</td>\n",
       "      <td>83.51</td>\n",
       "      <td>3476413</td>\n",
       "      <td>-0.0069</td>\n",
       "    </tr>\n",
       "    <tr>\n",
       "      <th>...</th>\n",
       "      <td>...</td>\n",
       "      <td>...</td>\n",
       "      <td>...</td>\n",
       "      <td>...</td>\n",
       "      <td>...</td>\n",
       "      <td>...</td>\n",
       "      <td>...</td>\n",
       "      <td>...</td>\n",
       "    </tr>\n",
       "    <tr>\n",
       "      <th>1244</th>\n",
       "      <td>SIE</td>\n",
       "      <td>2020-12-22</td>\n",
       "      <td>113.68</td>\n",
       "      <td>114.90</td>\n",
       "      <td>113.50</td>\n",
       "      <td>114.34</td>\n",
       "      <td>40812</td>\n",
       "      <td>-0.0054</td>\n",
       "    </tr>\n",
       "    <tr>\n",
       "      <th>1245</th>\n",
       "      <td>SIE</td>\n",
       "      <td>2020-12-23</td>\n",
       "      <td>114.28</td>\n",
       "      <td>117.08</td>\n",
       "      <td>114.28</td>\n",
       "      <td>116.74</td>\n",
       "      <td>59747</td>\n",
       "      <td>0.0210</td>\n",
       "    </tr>\n",
       "    <tr>\n",
       "      <th>1246</th>\n",
       "      <td>SIE</td>\n",
       "      <td>2020-12-28</td>\n",
       "      <td>117.20</td>\n",
       "      <td>119.30</td>\n",
       "      <td>117.20</td>\n",
       "      <td>119.00</td>\n",
       "      <td>106596</td>\n",
       "      <td>0.0194</td>\n",
       "    </tr>\n",
       "    <tr>\n",
       "      <th>1247</th>\n",
       "      <td>SIE</td>\n",
       "      <td>2020-12-29</td>\n",
       "      <td>119.10</td>\n",
       "      <td>119.74</td>\n",
       "      <td>116.64</td>\n",
       "      <td>116.78</td>\n",
       "      <td>89969</td>\n",
       "      <td>-0.0187</td>\n",
       "    </tr>\n",
       "    <tr>\n",
       "      <th>1248</th>\n",
       "      <td>SIE</td>\n",
       "      <td>2020-12-30</td>\n",
       "      <td>117.24</td>\n",
       "      <td>118.26</td>\n",
       "      <td>117.14</td>\n",
       "      <td>117.90</td>\n",
       "      <td>56513</td>\n",
       "      <td>0.0096</td>\n",
       "    </tr>\n",
       "  </tbody>\n",
       "</table>\n",
       "<p>1249 rows × 8 columns</p>\n",
       "</div>"
      ],
      "text/plain": [
       "     TICKER       DATE    OPEN    HIGH     LOW   CLOSE      VOL    LEAP\n",
       "0       SIE 2016-01-04   88.09   88.09   85.21   85.53  4326103     NaN\n",
       "1       SIE 2016-01-05   85.50   86.35   85.00   86.07  2649739  0.0063\n",
       "2       SIE 2016-01-06   85.51   85.78   84.45   85.73  2509210 -0.0040\n",
       "3       SIE 2016-01-07   83.68   84.61   82.75   84.09  4010217 -0.0191\n",
       "4       SIE 2016-01-08   84.75   85.66   83.33   83.51  3476413 -0.0069\n",
       "...     ...        ...     ...     ...     ...     ...      ...     ...\n",
       "1244    SIE 2020-12-22  113.68  114.90  113.50  114.34    40812 -0.0054\n",
       "1245    SIE 2020-12-23  114.28  117.08  114.28  116.74    59747  0.0210\n",
       "1246    SIE 2020-12-28  117.20  119.30  117.20  119.00   106596  0.0194\n",
       "1247    SIE 2020-12-29  119.10  119.74  116.64  116.78    89969 -0.0187\n",
       "1248    SIE 2020-12-30  117.24  118.26  117.14  117.90    56513  0.0096\n",
       "\n",
       "[1249 rows x 8 columns]"
      ]
     },
     "execution_count": 275,
     "metadata": {},
     "output_type": "execute_result"
    }
   ],
   "source": [
    "data_SIE"
   ]
  },
  {
   "cell_type": "markdown",
   "metadata": {},
   "source": [
    "# Раздел 4. Проверка гипотезы на модельных данных"
   ]
  },
  {
   "cell_type": "code",
   "execution_count": 295,
   "metadata": {},
   "outputs": [],
   "source": [
    "import matplotlib.pyplot as plt\n",
    "import numpy as np\n",
    "import scipy.stats as stats\n",
    "import matplotlib.ticker as ticker\n",
    "from scipy.special import *\n"
   ]
  },
  {
   "attachments": {
    "image.png": {
     "image/png": "[encoded data removed]"
    }
   },
   "cell_type": "markdown",
   "metadata": {},
   "source": [
    "![image.png](attachment:image.png)"
   ]
  },
  {
   "cell_type": "code",
   "execution_count": 286,
   "metadata": {},
   "outputs": [
    {
     "name": "stdout",
     "output_type": "stream",
     "text": [
      "Результат W моей функции= 0.93476\n",
      "Результат W встроенной функции= 0.93466\n",
      "--- 0.001003265380859375 seconds in my function ---\n",
      "--- 0.0 seconds ---in stats.shapiro\n"
     ]
    }
   ],
   "source": [
    "import time\n",
    "sample=[-1,0,1,2,3,5,6,7,10,15]\n",
    "start_time = time.time()\n",
    "def stat_shapiro_mine(sample):\n",
    "    koef_n10=[5739/10**4,3291/10**4,2141/10**4,1224/10**4,399/10**4]\n",
    "    denominator=0\n",
    "    numerator=0\n",
    "    n=len(sample)\n",
    "    sample=sorted(sample)\n",
    "    sample_mean=np.mean(sample)\n",
    "    for j in range(1,n//2+1):\n",
    "        numerator+=((sample[n-j-1+1]-sample[j-1])*koef_n10[j-1])\n",
    "    for j in range(n):\n",
    "        denominator+=(sample[j]-sample_mean)**2\n",
    "    w=numerator**2/denominator\n",
    "    return w\n",
    "W=stat_shapiro_mine(sample)\n",
    "finish_time = time.time()\n",
    "start_time1 = time.time()\n",
    "W1=stats.shapiro(sample)[0]\n",
    "finish_time1 = time.time()\n",
    "print('Результат W моей функции=',np.round(W,5))\n",
    "print('Результат W встроенной функции=', np.round(W1,5))\n",
    "print(\"--- %s seconds in my function ---\" % (finish_time - start_time))\n",
    "print(\"--- %s seconds ---in stats.shapiro\" % (finish_time1 - start_time1))\n",
    "#sample=stats.norm.rvs(loc=0, scale=1, size=n) - если выше захотим проверить на другой выборке"
   ]
  },
  {
   "cell_type": "markdown",
   "metadata": {},
   "source": [
    "### 1) строим гистограмму р-значений по Шапиро-Уилка с помощью метода Монте-Карло"
   ]
  },
  {
   "cell_type": "markdown",
   "metadata": {},
   "source": [
    "#### для начала рассчитаем статистику каждой выборки и значения квантилей"
   ]
  },
  {
   "cell_type": "code",
   "execution_count": 134,
   "metadata": {},
   "outputs": [],
   "source": [
    "N=10**5 #количество испытаний\n",
    "n=249 #объем каждой из выборок, соотвт. среднему количеству торговых дней за год\n",
    "list_for_q9=np.arange(0.1,1,0.1) #будущие 9 квантилей\n",
    "list_for_q999=np.arange(0.001,1,0.001) #будущие 999 квантилей\n",
    "list_q9=[] #здесь будут записаны значения 9 квантилей\n",
    "list_q999=[] #здесь будут записаны значения 999 квантилей \n",
    "stat_shapiro=[] #список статистик каждой из N выборок\n",
    "stat_shapiro_p=[]\n",
    "KS_p=[]\n",
    "for i in range(N):\n",
    "    data_norm=stats.norm.rvs(loc=0, scale=1, size=n) #генерируем выборку из нормального распределения\n",
    "    stat_shapiro.append(stats.shapiro(data_norm)[0]) #находим значение статистики критерия\n",
    "    stat_shapiro_p.append(stats.shapiro(data_norm)[1]) #через встроенную функцию находим р-значения\n",
    "    KS_p.append(stats.kstest(data_norm,'norm')[1])\n",
    "\n",
    "\n",
    "list_q9=np.quantile(stat_shapiro,list_for_q9) #заполняем значения 9 квантилей\n",
    "list_q999=np.quantile(stat_shapiro,list_for_q999)  #заполняем значения 999 квантилей\n",
    "\n",
    "#создадим таблицу 9 и 999 квантилей\n",
    "\n",
    "q9= pd.DataFrame({'Квантиль':list_for_q9, 'Значение':list_q9})\n",
    "q999= pd.DataFrame({'Квантиль':list_for_q999, 'Значение':list_q999})\n",
    "\n",
    "#сохраним таблицы в csv"
   ]
  },
  {
   "cell_type": "code",
   "execution_count": 161,
   "metadata": {},
   "outputs": [],
   "source": [
    "q9.to_csv ('Таблица 9 квантилей и их значений') \n",
    "q999.to_csv ('Таблица 999 квантилей и их значений')     "
   ]
  },
  {
   "cell_type": "code",
   "execution_count": 162,
   "metadata": {},
   "outputs": [
    {
     "data": {
      "text/html": [
       "<div>\n",
       "<style scoped>\n",
       "    .dataframe tbody tr th:only-of-type {\n",
       "        vertical-align: middle;\n",
       "    }\n",
       "\n",
       "    .dataframe tbody tr th {\n",
       "        vertical-align: top;\n",
       "    }\n",
       "\n",
       "    .dataframe thead th {\n",
       "        text-align: right;\n",
       "    }\n",
       "</style>\n",
       "<table border=\"1\" class=\"dataframe\">\n",
       "  <thead>\n",
       "    <tr style=\"text-align: right;\">\n",
       "      <th></th>\n",
       "      <th>Квантиль</th>\n",
       "      <th>Значение</th>\n",
       "    </tr>\n",
       "  </thead>\n",
       "  <tbody>\n",
       "    <tr>\n",
       "      <th>0</th>\n",
       "      <td>0.1</td>\n",
       "      <td>0.990446</td>\n",
       "    </tr>\n",
       "    <tr>\n",
       "      <th>1</th>\n",
       "      <td>0.2</td>\n",
       "      <td>0.992083</td>\n",
       "    </tr>\n",
       "    <tr>\n",
       "      <th>2</th>\n",
       "      <td>0.3</td>\n",
       "      <td>0.993094</td>\n",
       "    </tr>\n",
       "    <tr>\n",
       "      <th>3</th>\n",
       "      <td>0.4</td>\n",
       "      <td>0.993837</td>\n",
       "    </tr>\n",
       "    <tr>\n",
       "      <th>4</th>\n",
       "      <td>0.5</td>\n",
       "      <td>0.994464</td>\n",
       "    </tr>\n",
       "    <tr>\n",
       "      <th>5</th>\n",
       "      <td>0.6</td>\n",
       "      <td>0.995029</td>\n",
       "    </tr>\n",
       "    <tr>\n",
       "      <th>6</th>\n",
       "      <td>0.7</td>\n",
       "      <td>0.995554</td>\n",
       "    </tr>\n",
       "    <tr>\n",
       "      <th>7</th>\n",
       "      <td>0.8</td>\n",
       "      <td>0.996100</td>\n",
       "    </tr>\n",
       "    <tr>\n",
       "      <th>8</th>\n",
       "      <td>0.9</td>\n",
       "      <td>0.996743</td>\n",
       "    </tr>\n",
       "  </tbody>\n",
       "</table>\n",
       "</div>"
      ],
      "text/plain": [
       "   Квантиль  Значение\n",
       "0       0.1  0.990446\n",
       "1       0.2  0.992083\n",
       "2       0.3  0.993094\n",
       "3       0.4  0.993837\n",
       "4       0.5  0.994464\n",
       "5       0.6  0.995029\n",
       "6       0.7  0.995554\n",
       "7       0.8  0.996100\n",
       "8       0.9  0.996743"
      ]
     },
     "execution_count": 162,
     "metadata": {},
     "output_type": "execute_result"
    }
   ],
   "source": [
    "q9"
   ]
  },
  {
   "cell_type": "code",
   "execution_count": 136,
   "metadata": {},
   "outputs": [
    {
     "data": {
      "text/html": [
       "<div>\n",
       "<style scoped>\n",
       "    .dataframe tbody tr th:only-of-type {\n",
       "        vertical-align: middle;\n",
       "    }\n",
       "\n",
       "    .dataframe tbody tr th {\n",
       "        vertical-align: top;\n",
       "    }\n",
       "\n",
       "    .dataframe thead th {\n",
       "        text-align: right;\n",
       "    }\n",
       "</style>\n",
       "<table border=\"1\" class=\"dataframe\">\n",
       "  <thead>\n",
       "    <tr style=\"text-align: right;\">\n",
       "      <th></th>\n",
       "      <th>Квантиль</th>\n",
       "      <th>Значение</th>\n",
       "    </tr>\n",
       "  </thead>\n",
       "  <tbody>\n",
       "    <tr>\n",
       "      <th>0</th>\n",
       "      <td>0.001</td>\n",
       "      <td>0.979107</td>\n",
       "    </tr>\n",
       "    <tr>\n",
       "      <th>1</th>\n",
       "      <td>0.002</td>\n",
       "      <td>0.980682</td>\n",
       "    </tr>\n",
       "    <tr>\n",
       "      <th>2</th>\n",
       "      <td>0.003</td>\n",
       "      <td>0.981564</td>\n",
       "    </tr>\n",
       "    <tr>\n",
       "      <th>3</th>\n",
       "      <td>0.004</td>\n",
       "      <td>0.982257</td>\n",
       "    </tr>\n",
       "    <tr>\n",
       "      <th>4</th>\n",
       "      <td>0.005</td>\n",
       "      <td>0.982897</td>\n",
       "    </tr>\n",
       "    <tr>\n",
       "      <th>...</th>\n",
       "      <td>...</td>\n",
       "      <td>...</td>\n",
       "    </tr>\n",
       "    <tr>\n",
       "      <th>994</th>\n",
       "      <td>0.995</td>\n",
       "      <td>0.998077</td>\n",
       "    </tr>\n",
       "    <tr>\n",
       "      <th>995</th>\n",
       "      <td>0.996</td>\n",
       "      <td>0.998139</td>\n",
       "    </tr>\n",
       "    <tr>\n",
       "      <th>996</th>\n",
       "      <td>0.997</td>\n",
       "      <td>0.998204</td>\n",
       "    </tr>\n",
       "    <tr>\n",
       "      <th>997</th>\n",
       "      <td>0.998</td>\n",
       "      <td>0.998286</td>\n",
       "    </tr>\n",
       "    <tr>\n",
       "      <th>998</th>\n",
       "      <td>0.999</td>\n",
       "      <td>0.998430</td>\n",
       "    </tr>\n",
       "  </tbody>\n",
       "</table>\n",
       "<p>999 rows × 2 columns</p>\n",
       "</div>"
      ],
      "text/plain": [
       "     Квантиль  Значение\n",
       "0       0.001  0.979107\n",
       "1       0.002  0.980682\n",
       "2       0.003  0.981564\n",
       "3       0.004  0.982257\n",
       "4       0.005  0.982897\n",
       "..        ...       ...\n",
       "994     0.995  0.998077\n",
       "995     0.996  0.998139\n",
       "996     0.997  0.998204\n",
       "997     0.998  0.998286\n",
       "998     0.999  0.998430\n",
       "\n",
       "[999 rows x 2 columns]"
      ]
     },
     "execution_count": 136,
     "metadata": {},
     "output_type": "execute_result"
    }
   ],
   "source": [
    "q999"
   ]
  },
  {
   "cell_type": "markdown",
   "metadata": {},
   "source": [
    "#### теперь перейдём к вычислению 1000 р-значений выборок аналитически"
   ]
  },
  {
   "cell_type": "code",
   "execution_count": 137,
   "metadata": {},
   "outputs": [],
   "source": [
    "p_znach_shapiro=[stats.percentileofscore(list_q999,stat_shapiro[i])/100 for i in range(1000)]"
   ]
  },
  {
   "cell_type": "code",
   "execution_count": 288,
   "metadata": {},
   "outputs": [],
   "source": [
    "U=stats.uniform()\n",
    "u = np.linspace(-1, 2, 1000)\n",
    "y=U.pdf(u)"
   ]
  },
  {
   "cell_type": "code",
   "execution_count": 145,
   "metadata": {
    "scrolled": true
   },
   "outputs": [
    {
     "data": {
      "image/png": "[encoded data removed]",
      "text/plain": [
       "<Figure size 2088x648 with 1 Axes>"
      ]
     },
     "metadata": {
      "needs_background": "light"
     },
     "output_type": "display_data"
    }
   ],
   "source": [
    "fig,ax =plt.subplots(figsize=(29, 9))\n",
    "plt.xlim(-0.1,1.1)\n",
    "plt.ylim(0.0,1.05)\n",
    "plt.tick_params(labelsize = 25)\n",
    "plt.plot(u, y, 'r-', lw=7, alpha=0.6)\n",
    "plt.hist(p_znach_shapiro, density=True,bins=20,alpha=0.75, color='orange')\n",
    "plt.title('Гистограмма P-values, вычисленных c помощью таблицы 999 квантилей', fontsize=30)\n",
    "plt.show()"
   ]
  },
  {
   "cell_type": "code",
   "execution_count": 146,
   "metadata": {},
   "outputs": [],
   "source": [
    "pvalue111 = stats.kstest(p_znach_shapiro,'uniform')"
   ]
  },
  {
   "cell_type": "code",
   "execution_count": 147,
   "metadata": {},
   "outputs": [
    {
     "data": {
      "text/plain": [
       "KstestResult(statistic=0.023944944944944944, pvalue=0.6063268920229192)"
      ]
     },
     "execution_count": 147,
     "metadata": {},
     "output_type": "execute_result"
    }
   ],
   "source": [
    "pvalue111"
   ]
  },
  {
   "cell_type": "markdown",
   "metadata": {},
   "source": [
    "### 2) строим гистограмму р-значений по Шапиро-Уилка, полученных из встроенной функции на ЭТИХ же данных"
   ]
  },
  {
   "cell_type": "code",
   "execution_count": 149,
   "metadata": {
    "scrolled": false
   },
   "outputs": [
    {
     "data": {
      "image/png": "[encoded data removed]",
      "text/plain": [
       "<Figure size 2160x720 with 1 Axes>"
      ]
     },
     "metadata": {
      "needs_background": "light"
     },
     "output_type": "display_data"
    }
   ],
   "source": [
    "fig,ax =plt.subplots(figsize=(30, 10))\n",
    "plt.xlim(-0.1,1.1)\n",
    "plt.ylim(0.0,1.05)\n",
    "plt.tick_params(labelsize = 25)\n",
    "plt.plot(u, y, 'r-', lw=7, alpha=0.6)\n",
    "plt.hist(stat_shapiro_p,density=True,bins=20,alpha=0.75, color='green')\n",
    "plt.title('Гистограмма P-values, вычисленных c помощью встроенной функции',fontsize=30)\n",
    "plt.show()"
   ]
  },
  {
   "cell_type": "markdown",
   "metadata": {},
   "source": [
    "### 3) строим гистограмму р-значений по критерию Колмогорова"
   ]
  },
  {
   "cell_type": "code",
   "execution_count": 153,
   "metadata": {
    "scrolled": true
   },
   "outputs": [
    {
     "data": {
      "image/png": "[encoded data removed]",
      "text/plain": [
       "<Figure size 2088x648 with 1 Axes>"
      ]
     },
     "metadata": {
      "needs_background": "light"
     },
     "output_type": "display_data"
    }
   ],
   "source": [
    "fig,ax =plt.subplots(figsize=(29, 9))\n",
    "plt.tick_params(labelsize = 25)\n",
    "plt.xlim(-0.1,1.1)\n",
    "plt.ylim(0.0,1.05)\n",
    "plt.plot(u, y, 'r-', lw=7, alpha=0.6)\n",
    "plt.hist(KS_p,bins=20,alpha=0.7, density=True, color='yellow')\n",
    "plt.title('Гистограмма P-values, вычисленных c помощью критерия Колмогорова',fontsize=30)\n",
    "plt.show()"
   ]
  },
  {
   "cell_type": "code",
   "execution_count": 154,
   "metadata": {},
   "outputs": [],
   "source": [
    "#проверка, что распределения p-значений идентичны\n",
    "pvalueend= stats.ks_2samp(p_znach_shapiro,KS_p)"
   ]
  },
  {
   "cell_type": "code",
   "execution_count": 84,
   "metadata": {},
   "outputs": [
    {
     "data": {
      "text/plain": [
       "KstestResult(statistic=0.02457000000000001, pvalue=0.579806403842505)"
      ]
     },
     "execution_count": 84,
     "metadata": {},
     "output_type": "execute_result"
    }
   ],
   "source": [
    "pvalueend"
   ]
  },
  {
   "cell_type": "markdown",
   "metadata": {},
   "source": [
    "# Раздел 5. Выбор альтернативной гипотезы и оценка мощности критерия"
   ]
  },
  {
   "cell_type": "code",
   "execution_count": null,
   "metadata": {},
   "outputs": [],
   "source": [
    "#распределение T (Стьюдента), распределение Лапласа и Х2 распределение."
   ]
  },
  {
   "cell_type": "code",
   "execution_count": 303,
   "metadata": {},
   "outputs": [],
   "source": [
    "#### n=250\n",
    "alpha=0.5\n",
    "stat_shapiro_p_chi=[]\n",
    "stat_shapiro_p_laplace=[]\n",
    "stat_shapiro_p_t=[]\n",
    "\n",
    "n=250\n",
    "for i in range(1000):\n",
    "    data_chi=stats.chi2.rvs(df=2,loc=0, scale=1, size=n)\n",
    "    data_lap=stats.laplace.rvs(loc=0, scale=1, size=n)\n",
    "    data_t=stats.t.rvs(df=2,loc=0, scale=1, size=n)\n",
    "    stat_shapiro_p_chi.append(stats.shapiro(data_chi)[1])\n",
    "    stat_shapiro_p_laplace.append(stats.shapiro(data_lap)[1])\n",
    "    stat_shapiro_p_t.append(stats.shapiro(data_t)[1])\n",
    "\n",
    "pow_chi_250=0\n",
    "pow_t_250=0\n",
    "pow_lap_250=0\n",
    "    \n",
    "for i in stat_shapiro_p_chi:\n",
    "    if i>alpha:\n",
    "        pow_chi_250+=1\n",
    "\n",
    "for i in stat_shapiro_p_laplace:\n",
    "    if i>alpha:\n",
    "        pow_lap_250+=1\n",
    "        \n",
    "for i in stat_shapiro_p_t:\n",
    "    if i>alpha:\n",
    "        pow_t_250+=1\n",
    "        \n",
    "pow_250=[pow_chi_250/1000,pow_t_250/1000,pow_lap_250/1000 ]\n",
    "\n",
    "#######n=125\n",
    "stat_shapiro_p_chi=[]\n",
    "stat_shapiro_p_laplace=[]\n",
    "stat_shapiro_p_t=[]\n",
    "n=125\n",
    "for i in range(1000):\n",
    "    data_chi=stats.chi2.rvs(df=2,loc=0, scale=1, size=n)\n",
    "    data_lap=stats.laplace.rvs(loc=0, scale=1, size=n)\n",
    "    data_t=stats.t.rvs(df=2,loc=0, scale=1, size=n)\n",
    "    stat_shapiro_p_chi.append(stats.shapiro(data_chi)[1])\n",
    "    stat_shapiro_p_laplace.append(stats.shapiro(data_lap)[1])\n",
    "    stat_shapiro_p_t.append(stats.shapiro(data_t)[1])\n",
    "\n",
    "pow_chi_125=0\n",
    "pow_t_125=0\n",
    "pow_lap_125=0\n",
    "    \n",
    "for i in stat_shapiro_p_chi:\n",
    "    if i>alpha:\n",
    "        pow_chi_125+=1\n",
    "\n",
    "for i in stat_shapiro_p_laplace:\n",
    "    if i>alpha:\n",
    "        pow_lap_125+=1\n",
    "        \n",
    "for i in stat_shapiro_p_t:\n",
    "    if i>alpha:\n",
    "        pow_t_125+=1\n",
    "\n",
    "pow_125=[pow_chi_125/1000,pow_t_125/1000,pow_lap_125/1000 ]  \n",
    "\n",
    "#######n=30\n",
    "stat_shapiro_p_chi=[]\n",
    "stat_shapiro_p_laplace=[]\n",
    "stat_shapiro_p_t=[]\n",
    "n=30\n",
    "for i in range(1000):\n",
    "    data_chi=stats.chi2.rvs(df=2,loc=0, scale=1, size=n)\n",
    "    data_lap=stats.laplace.rvs(loc=0, scale=1, size=n)\n",
    "    data_t=stats.t.rvs(df=2,loc=0, scale=1, size=n)\n",
    "    stat_shapiro_p_chi.append(stats.shapiro(data_chi)[1])\n",
    "    stat_shapiro_p_laplace.append(stats.shapiro(data_lap)[1])\n",
    "    stat_shapiro_p_t.append(stats.shapiro(data_t)[1])\n",
    "\n",
    "pow_chi_30=0\n",
    "pow_t_30=0\n",
    "pow_lap_30=0\n",
    "    \n",
    "for i in stat_shapiro_p_chi:\n",
    "    if i>alpha:\n",
    "        pow_chi_30+=1\n",
    "\n",
    "for i in stat_shapiro_p_laplace:\n",
    "    if i>alpha:\n",
    "        pow_lap_30+=1\n",
    "        \n",
    "for i in stat_shapiro_p_t:\n",
    "    if i>alpha:\n",
    "        pow_t_30+=1\n",
    "\n",
    "pow_30=[pow_chi_30/1000,pow_t_30/1000,pow_lap_30/1000 ]  \n",
    "\n",
    "list_raspr=['Хи-квадрат','Стьюдент','Лапласа']\n",
    "power= pd.DataFrame({'Распределение':list_raspr, 'Мощность при n=250':pow_250,'Мощность при n=125':pow_125, 'Мощность при n=30':pow_30 })"
   ]
  },
  {
   "cell_type": "code",
   "execution_count": 304,
   "metadata": {},
   "outputs": [
    {
     "data": {
      "text/html": [
       "<div>\n",
       "<style scoped>\n",
       "    .dataframe tbody tr th:only-of-type {\n",
       "        vertical-align: middle;\n",
       "    }\n",
       "\n",
       "    .dataframe tbody tr th {\n",
       "        vertical-align: top;\n",
       "    }\n",
       "\n",
       "    .dataframe thead th {\n",
       "        text-align: right;\n",
       "    }\n",
       "</style>\n",
       "<table border=\"1\" class=\"dataframe\">\n",
       "  <thead>\n",
       "    <tr style=\"text-align: right;\">\n",
       "      <th></th>\n",
       "      <th>Распределение</th>\n",
       "      <th>Мощность при n=250</th>\n",
       "      <th>Мощность при n=125</th>\n",
       "      <th>Мощность при n=30</th>\n",
       "    </tr>\n",
       "  </thead>\n",
       "  <tbody>\n",
       "    <tr>\n",
       "      <th>0</th>\n",
       "      <td>Хи-квадрат</td>\n",
       "      <td>0.0</td>\n",
       "      <td>0.000</td>\n",
       "      <td>0.000</td>\n",
       "    </tr>\n",
       "    <tr>\n",
       "      <th>1</th>\n",
       "      <td>Стьюдент</td>\n",
       "      <td>0.0</td>\n",
       "      <td>0.000</td>\n",
       "      <td>0.103</td>\n",
       "    </tr>\n",
       "    <tr>\n",
       "      <th>2</th>\n",
       "      <td>Лапласа</td>\n",
       "      <td>0.0</td>\n",
       "      <td>0.014</td>\n",
       "      <td>0.217</td>\n",
       "    </tr>\n",
       "  </tbody>\n",
       "</table>\n",
       "</div>"
      ],
      "text/plain": [
       "  Распределение  Мощность при n=250  Мощность при n=125  Мощность при n=30\n",
       "0    Хи-квадрат                 0.0               0.000              0.000\n",
       "1      Стьюдент                 0.0               0.000              0.103\n",
       "2       Лапласа                 0.0               0.014              0.217"
      ]
     },
     "execution_count": 304,
     "metadata": {},
     "output_type": "execute_result"
    }
   ],
   "source": [
    "power"
   ]
  },
  {
   "cell_type": "markdown",
   "metadata": {},
   "source": [
    "# Раздел 6. Реальные данные"
   ]
  },
  {
   "cell_type": "code",
   "execution_count": 203,
   "metadata": {},
   "outputs": [],
   "source": [
    "#найдем логарифмические доходности на каждый день по всем компаниям"
   ]
  },
  {
   "cell_type": "code",
   "execution_count": 279,
   "metadata": {},
   "outputs": [],
   "source": [
    "tickers=['ALV', 'BAS', 'BAYN', 'BMW', 'DPW', 'DTE', 'SAP', 'SIE']\n",
    "companies=[data_ALV,data_BAS,data_BAYN,data_BMW,data_DPW,data_DTE,data_SAP,data_SIE]\n",
    "def log_kek(com): #функция для подсчета дневной логарифмической доходности\n",
    "    log_com=[np.round(np.log(com['CLOSE'][i+1]/com['CLOSE'][i]),4) for i in range(len(com)-1)]\n",
    "    log_com.insert(0,0)\n",
    "    return log_com\n",
    "data_ALV['LOG LEAP']=log_kek(data_ALV)\n",
    "data_BAS['LOG LEAP']=log_kek(data_BAS)\n",
    "data_BAYN['LOG LEAP']=log_kek(data_BAYN)\n",
    "data_BMW['LOG LEAP']=log_kek(data_BMW)\n",
    "data_DPW['LOG LEAP']=log_kek(data_DPW)\n",
    "data_DTE['LOG LEAP']=log_kek(data_DTE)\n",
    "data_SAP['LOG LEAP']=log_kek(data_SAP)\n",
    "data_SIE['LOG LEAP']=log_kek(data_SIE)"
   ]
  },
  {
   "cell_type": "code",
   "execution_count": null,
   "metadata": {},
   "outputs": [],
   "source": [
    "#ПРОМЕЖУТОК ГОД"
   ]
  },
  {
   "cell_type": "code",
   "execution_count": 158,
   "metadata": {},
   "outputs": [
    {
     "name": "stdout",
     "output_type": "stream",
     "text": [
      "Гипотеза принимается лишь в 8% при 1% уровне значимости\n",
      "Гипотеза принимается лишь в 2% при 5% уровне значимости\n"
     ]
    }
   ],
   "source": [
    "years=[2016,2017,2018,2019,2020]\n",
    "p_real=pd.DataFrame(index=tickers)\n",
    "p_okrugl=pd.DataFrame(index=tickers)\n",
    "p_all=[]\n",
    "for year in years:\n",
    "    p_per_all=[]\n",
    "    p_per_all_okrug=[]\n",
    "    for com in companies:\n",
    "        diap=(com['DATE'] >= pd.to_datetime(f'{year}-01-01')) & (com['DATE'] <= pd.to_datetime(f'{year}-12-31 '))\n",
    "        p_znach=stats.shapiro(com[diap]['LOG LEAP'])[1]\n",
    "        p_znach_okrug=np.round(stats.shapiro(com[diap]['LOG LEAP'])[1],5)\n",
    "        p_per_all.append(p_znach)\n",
    "        p_per_all_okrug.append(p_znach_okrug)\n",
    "        p_all.append(p_znach)\n",
    "    p_real[str(year)]=p_per_all\n",
    "    p_okrugl[str(year)]=p_per_all_okrug\n",
    "\n",
    "k1,k5=0,0    \n",
    "for i in range(len(p_all)):\n",
    "    if p_all[i]>=0.01:\n",
    "        k1+=1\n",
    "    if p_all[i]>=0.05:\n",
    "        k5+=1\n",
    "        \n",
    "print(f\"Гипотеза принимается лишь в {k1/len(p_all):.0%} при 1% уровне значимости\") \n",
    "print(f\"Гипотеза принимается лишь в {k5/len(p_all):.0%} при 5% уровне значимости\") "
   ]
  },
  {
   "cell_type": "code",
   "execution_count": 96,
   "metadata": {},
   "outputs": [
    {
     "data": {
      "text/html": [
       "<div>\n",
       "<style scoped>\n",
       "    .dataframe tbody tr th:only-of-type {\n",
       "        vertical-align: middle;\n",
       "    }\n",
       "\n",
       "    .dataframe tbody tr th {\n",
       "        vertical-align: top;\n",
       "    }\n",
       "\n",
       "    .dataframe thead th {\n",
       "        text-align: right;\n",
       "    }\n",
       "</style>\n",
       "<table border=\"1\" class=\"dataframe\">\n",
       "  <thead>\n",
       "    <tr style=\"text-align: right;\">\n",
       "      <th></th>\n",
       "      <th>2016</th>\n",
       "      <th>2017</th>\n",
       "      <th>2018</th>\n",
       "      <th>2019</th>\n",
       "      <th>2020</th>\n",
       "    </tr>\n",
       "  </thead>\n",
       "  <tbody>\n",
       "    <tr>\n",
       "      <th>ALV</th>\n",
       "      <td>1.583984e-10</td>\n",
       "      <td>3.304577e-04</td>\n",
       "      <td>2.662125e-04</td>\n",
       "      <td>2.397460e-09</td>\n",
       "      <td>3.231395e-13</td>\n",
       "    </tr>\n",
       "    <tr>\n",
       "      <th>BAS</th>\n",
       "      <td>2.730699e-04</td>\n",
       "      <td>9.677988e-03</td>\n",
       "      <td>6.156262e-01</td>\n",
       "      <td>2.922494e-04</td>\n",
       "      <td>3.428819e-07</td>\n",
       "    </tr>\n",
       "    <tr>\n",
       "      <th>BAYN</th>\n",
       "      <td>1.150762e-07</td>\n",
       "      <td>6.951123e-04</td>\n",
       "      <td>2.892991e-10</td>\n",
       "      <td>2.498536e-08</td>\n",
       "      <td>6.687219e-08</td>\n",
       "    </tr>\n",
       "    <tr>\n",
       "      <th>BMW</th>\n",
       "      <td>3.061720e-02</td>\n",
       "      <td>2.708930e-04</td>\n",
       "      <td>2.758724e-04</td>\n",
       "      <td>2.806764e-04</td>\n",
       "      <td>1.054436e-10</td>\n",
       "    </tr>\n",
       "    <tr>\n",
       "      <th>DPW</th>\n",
       "      <td>1.570336e-07</td>\n",
       "      <td>2.127672e-06</td>\n",
       "      <td>2.697140e-07</td>\n",
       "      <td>1.701912e-02</td>\n",
       "      <td>1.658740e-11</td>\n",
       "    </tr>\n",
       "    <tr>\n",
       "      <th>DTE</th>\n",
       "      <td>3.493496e-04</td>\n",
       "      <td>1.985800e-06</td>\n",
       "      <td>5.050438e-03</td>\n",
       "      <td>3.852072e-08</td>\n",
       "      <td>5.650786e-09</td>\n",
       "    </tr>\n",
       "    <tr>\n",
       "      <th>SAP</th>\n",
       "      <td>1.736952e-05</td>\n",
       "      <td>9.640772e-04</td>\n",
       "      <td>2.535483e-04</td>\n",
       "      <td>1.381971e-15</td>\n",
       "      <td>6.952844e-19</td>\n",
       "    </tr>\n",
       "    <tr>\n",
       "      <th>SIE</th>\n",
       "      <td>6.639803e-08</td>\n",
       "      <td>3.570996e-08</td>\n",
       "      <td>1.958802e-05</td>\n",
       "      <td>1.486460e-04</td>\n",
       "      <td>1.188475e-08</td>\n",
       "    </tr>\n",
       "  </tbody>\n",
       "</table>\n",
       "</div>"
      ],
      "text/plain": [
       "              2016          2017          2018          2019          2020\n",
       "ALV   1.583984e-10  3.304577e-04  2.662125e-04  2.397460e-09  3.231395e-13\n",
       "BAS   2.730699e-04  9.677988e-03  6.156262e-01  2.922494e-04  3.428819e-07\n",
       "BAYN  1.150762e-07  6.951123e-04  2.892991e-10  2.498536e-08  6.687219e-08\n",
       "BMW   3.061720e-02  2.708930e-04  2.758724e-04  2.806764e-04  1.054436e-10\n",
       "DPW   1.570336e-07  2.127672e-06  2.697140e-07  1.701912e-02  1.658740e-11\n",
       "DTE   3.493496e-04  1.985800e-06  5.050438e-03  3.852072e-08  5.650786e-09\n",
       "SAP   1.736952e-05  9.640772e-04  2.535483e-04  1.381971e-15  6.952844e-19\n",
       "SIE   6.639803e-08  3.570996e-08  1.958802e-05  1.486460e-04  1.188475e-08"
      ]
     },
     "execution_count": 96,
     "metadata": {},
     "output_type": "execute_result"
    }
   ],
   "source": [
    "p_real"
   ]
  },
  {
   "cell_type": "code",
   "execution_count": 97,
   "metadata": {},
   "outputs": [
    {
     "data": {
      "text/html": [
       "<div>\n",
       "<style scoped>\n",
       "    .dataframe tbody tr th:only-of-type {\n",
       "        vertical-align: middle;\n",
       "    }\n",
       "\n",
       "    .dataframe tbody tr th {\n",
       "        vertical-align: top;\n",
       "    }\n",
       "\n",
       "    .dataframe thead th {\n",
       "        text-align: right;\n",
       "    }\n",
       "</style>\n",
       "<table border=\"1\" class=\"dataframe\">\n",
       "  <thead>\n",
       "    <tr style=\"text-align: right;\">\n",
       "      <th></th>\n",
       "      <th>2016</th>\n",
       "      <th>2017</th>\n",
       "      <th>2018</th>\n",
       "      <th>2019</th>\n",
       "      <th>2020</th>\n",
       "    </tr>\n",
       "  </thead>\n",
       "  <tbody>\n",
       "    <tr>\n",
       "      <th>ALV</th>\n",
       "      <td>0.00000</td>\n",
       "      <td>0.00033</td>\n",
       "      <td>0.00027</td>\n",
       "      <td>0.00000</td>\n",
       "      <td>0.0</td>\n",
       "    </tr>\n",
       "    <tr>\n",
       "      <th>BAS</th>\n",
       "      <td>0.00027</td>\n",
       "      <td>0.00968</td>\n",
       "      <td>0.61563</td>\n",
       "      <td>0.00029</td>\n",
       "      <td>0.0</td>\n",
       "    </tr>\n",
       "    <tr>\n",
       "      <th>BAYN</th>\n",
       "      <td>0.00000</td>\n",
       "      <td>0.00070</td>\n",
       "      <td>0.00000</td>\n",
       "      <td>0.00000</td>\n",
       "      <td>0.0</td>\n",
       "    </tr>\n",
       "    <tr>\n",
       "      <th>BMW</th>\n",
       "      <td>0.03062</td>\n",
       "      <td>0.00027</td>\n",
       "      <td>0.00028</td>\n",
       "      <td>0.00028</td>\n",
       "      <td>0.0</td>\n",
       "    </tr>\n",
       "    <tr>\n",
       "      <th>DPW</th>\n",
       "      <td>0.00000</td>\n",
       "      <td>0.00000</td>\n",
       "      <td>0.00000</td>\n",
       "      <td>0.01702</td>\n",
       "      <td>0.0</td>\n",
       "    </tr>\n",
       "    <tr>\n",
       "      <th>DTE</th>\n",
       "      <td>0.00035</td>\n",
       "      <td>0.00000</td>\n",
       "      <td>0.00505</td>\n",
       "      <td>0.00000</td>\n",
       "      <td>0.0</td>\n",
       "    </tr>\n",
       "    <tr>\n",
       "      <th>SAP</th>\n",
       "      <td>0.00002</td>\n",
       "      <td>0.00096</td>\n",
       "      <td>0.00025</td>\n",
       "      <td>0.00000</td>\n",
       "      <td>0.0</td>\n",
       "    </tr>\n",
       "    <tr>\n",
       "      <th>SIE</th>\n",
       "      <td>0.00000</td>\n",
       "      <td>0.00000</td>\n",
       "      <td>0.00002</td>\n",
       "      <td>0.00015</td>\n",
       "      <td>0.0</td>\n",
       "    </tr>\n",
       "  </tbody>\n",
       "</table>\n",
       "</div>"
      ],
      "text/plain": [
       "         2016     2017     2018     2019  2020\n",
       "ALV   0.00000  0.00033  0.00027  0.00000   0.0\n",
       "BAS   0.00027  0.00968  0.61563  0.00029   0.0\n",
       "BAYN  0.00000  0.00070  0.00000  0.00000   0.0\n",
       "BMW   0.03062  0.00027  0.00028  0.00028   0.0\n",
       "DPW   0.00000  0.00000  0.00000  0.01702   0.0\n",
       "DTE   0.00035  0.00000  0.00505  0.00000   0.0\n",
       "SAP   0.00002  0.00096  0.00025  0.00000   0.0\n",
       "SIE   0.00000  0.00000  0.00002  0.00015   0.0"
      ]
     },
     "execution_count": 97,
     "metadata": {},
     "output_type": "execute_result"
    }
   ],
   "source": [
    "p_okrugl"
   ]
  },
  {
   "cell_type": "code",
   "execution_count": 112,
   "metadata": {},
   "outputs": [
    {
     "data": {
      "image/png": "[encoded data removed]",
      "text/plain": [
       "<Figure size 2160x720 with 1 Axes>"
      ]
     },
     "metadata": {
      "needs_background": "light"
     },
     "output_type": "display_data"
    }
   ],
   "source": [
    "#построим гистограмму всех р-значений\n",
    "fig,ax =plt.subplots(figsize=(30, 10))\n",
    "plt.tick_params(labelsize = 25)\n",
    "plt.xlim(-0.1,1.1)\n",
    "plt.ylim(0.0,1.05)\n",
    "plt.plot(u, y, 'r-', lw=7, alpha=0.6)\n",
    "plt.hist(p_all,alpha=0.75, density=True, color='green')\n",
    "plt.title('Гистограмма P-values по годам',fontsize=30)\n",
    "plt.show()"
   ]
  },
  {
   "cell_type": "code",
   "execution_count": 122,
   "metadata": {},
   "outputs": [
    {
     "data": {
      "text/plain": [
       "4.7793625063075226e-09"
      ]
     },
     "execution_count": 122,
     "metadata": {},
     "output_type": "execute_result"
    }
   ],
   "source": [
    "pv = stats.kstest(p_all,'uniform')\n",
    "pv[1]"
   ]
  },
  {
   "cell_type": "code",
   "execution_count": null,
   "metadata": {},
   "outputs": [],
   "source": [
    "# ПРОМЕЖУТОК ПОЛГОДА"
   ]
  },
  {
   "cell_type": "code",
   "execution_count": 159,
   "metadata": {},
   "outputs": [
    {
     "name": "stdout",
     "output_type": "stream",
     "text": [
      "Гипотеза принимается лишь в 35% при 1% уровне значимости\n",
      "Гипотеза принимается лишь в 20% при 5% уровне значимости\n"
     ]
    },
    {
     "data": {
      "image/png": "[encoded data removed]",
      "text/plain": [
       "<Figure size 2160x720 with 1 Axes>"
      ]
     },
     "metadata": {
      "needs_background": "light"
     },
     "output_type": "display_data"
    },
    {
     "name": "stdout",
     "output_type": "stream",
     "text": [
      "значение проверки на равномерность 3.769667186512969e-26\n"
     ]
    }
   ],
   "source": [
    "years=[2016,2017,2018,2019,2020]\n",
    "p_real=pd.DataFrame(index=tickers)\n",
    "p_okrugl=pd.DataFrame(index=tickers)\n",
    "p_all=[]\n",
    "for year in years:\n",
    "    p_per_all=[]\n",
    "    p_per_all_okrug=[]\n",
    "    for com in companies:\n",
    "        diap=(com['DATE'] >= pd.to_datetime(f'{year}-01-01')) & (com['DATE'] <= pd.to_datetime(f'{year}-06-30 '))\n",
    "        p_znach=stats.shapiro(com[diap]['LOG LEAP'])[1]\n",
    "        p_znach_okrug=np.round(stats.shapiro(com[diap]['LOG LEAP'])[1],5)\n",
    "        p_per_all.append(p_znach)\n",
    "        p_per_all_okrug.append(p_znach_okrug)\n",
    "        p_all.append(p_znach)\n",
    "    p_real[str(year)]=p_per_all\n",
    "    p_okrugl[str(year)]=p_per_all_okrug\n",
    "\n",
    "k1,k5=0,0    \n",
    "for i in range(len(p_all)):\n",
    "    if p_all[i]>=0.01:\n",
    "        k1+=1\n",
    "    if p_all[i]>=0.05:\n",
    "        k5+=1\n",
    "        \n",
    "print(f\"Гипотеза принимается лишь в {k1/len(p_all):.0%} при 1% уровне значимости\") \n",
    "print(f\"Гипотеза принимается лишь в {k5/len(p_all):.0%} при 5% уровне значимости\") \n",
    "\n",
    "#построим гистограмму р-значений промежутка в полгода\n",
    "fig,ax =plt.subplots(figsize=(30, 10))\n",
    "plt.tick_params(labelsize = 25)\n",
    "plt.xlim(-0.1,1.1)\n",
    "plt.ylim(0.0,1.05)\n",
    "plt.plot(u, y, 'r-', lw=7, alpha=0.6)\n",
    "plt.hist(p_all,density=True,alpha=0.75, color='green')\n",
    "plt.title('Гистограмма P-values на отрезке в полгода',fontsize=30)\n",
    "plt.show()\n",
    "pv = stats.kstest(p_all,'uniform')\n",
    "print('значение проверки на равномерность',pv[1])"
   ]
  },
  {
   "cell_type": "code",
   "execution_count": 103,
   "metadata": {
    "scrolled": true
   },
   "outputs": [
    {
     "data": {
      "text/html": [
       "<div>\n",
       "<style scoped>\n",
       "    .dataframe tbody tr th:only-of-type {\n",
       "        vertical-align: middle;\n",
       "    }\n",
       "\n",
       "    .dataframe tbody tr th {\n",
       "        vertical-align: top;\n",
       "    }\n",
       "\n",
       "    .dataframe thead th {\n",
       "        text-align: right;\n",
       "    }\n",
       "</style>\n",
       "<table border=\"1\" class=\"dataframe\">\n",
       "  <thead>\n",
       "    <tr style=\"text-align: right;\">\n",
       "      <th></th>\n",
       "      <th>2016</th>\n",
       "      <th>2017</th>\n",
       "      <th>2018</th>\n",
       "      <th>2019</th>\n",
       "      <th>2020</th>\n",
       "    </tr>\n",
       "  </thead>\n",
       "  <tbody>\n",
       "    <tr>\n",
       "      <th>ALV</th>\n",
       "      <td>0.00000</td>\n",
       "      <td>0.00016</td>\n",
       "      <td>0.02771</td>\n",
       "      <td>0.00000</td>\n",
       "      <td>0.00000</td>\n",
       "    </tr>\n",
       "    <tr>\n",
       "      <th>BAS</th>\n",
       "      <td>0.03920</td>\n",
       "      <td>0.00447</td>\n",
       "      <td>0.92571</td>\n",
       "      <td>0.00102</td>\n",
       "      <td>0.00663</td>\n",
       "    </tr>\n",
       "    <tr>\n",
       "      <th>BAYN</th>\n",
       "      <td>0.00006</td>\n",
       "      <td>0.00078</td>\n",
       "      <td>0.03656</td>\n",
       "      <td>0.00001</td>\n",
       "      <td>0.00051</td>\n",
       "    </tr>\n",
       "    <tr>\n",
       "      <th>BMW</th>\n",
       "      <td>0.46173</td>\n",
       "      <td>0.16264</td>\n",
       "      <td>0.06438</td>\n",
       "      <td>0.00076</td>\n",
       "      <td>0.00001</td>\n",
       "    </tr>\n",
       "    <tr>\n",
       "      <th>DPW</th>\n",
       "      <td>0.02243</td>\n",
       "      <td>0.00003</td>\n",
       "      <td>0.00000</td>\n",
       "      <td>0.68933</td>\n",
       "      <td>0.00008</td>\n",
       "    </tr>\n",
       "    <tr>\n",
       "      <th>DTE</th>\n",
       "      <td>0.20697</td>\n",
       "      <td>0.00000</td>\n",
       "      <td>0.07121</td>\n",
       "      <td>0.00000</td>\n",
       "      <td>0.00077</td>\n",
       "    </tr>\n",
       "    <tr>\n",
       "      <th>SAP</th>\n",
       "      <td>0.01159</td>\n",
       "      <td>0.00006</td>\n",
       "      <td>0.11121</td>\n",
       "      <td>0.00000</td>\n",
       "      <td>0.00012</td>\n",
       "    </tr>\n",
       "    <tr>\n",
       "      <th>SIE</th>\n",
       "      <td>0.00002</td>\n",
       "      <td>0.00000</td>\n",
       "      <td>0.00158</td>\n",
       "      <td>0.04118</td>\n",
       "      <td>0.00077</td>\n",
       "    </tr>\n",
       "  </tbody>\n",
       "</table>\n",
       "</div>"
      ],
      "text/plain": [
       "         2016     2017     2018     2019     2020\n",
       "ALV   0.00000  0.00016  0.02771  0.00000  0.00000\n",
       "BAS   0.03920  0.00447  0.92571  0.00102  0.00663\n",
       "BAYN  0.00006  0.00078  0.03656  0.00001  0.00051\n",
       "BMW   0.46173  0.16264  0.06438  0.00076  0.00001\n",
       "DPW   0.02243  0.00003  0.00000  0.68933  0.00008\n",
       "DTE   0.20697  0.00000  0.07121  0.00000  0.00077\n",
       "SAP   0.01159  0.00006  0.11121  0.00000  0.00012\n",
       "SIE   0.00002  0.00000  0.00158  0.04118  0.00077"
      ]
     },
     "execution_count": 103,
     "metadata": {},
     "output_type": "execute_result"
    }
   ],
   "source": [
    "p_okrugl"
   ]
  },
  {
   "cell_type": "code",
   "execution_count": null,
   "metadata": {},
   "outputs": [],
   "source": [
    "# ПРОМЕЖУТОК ОДИН КВАРТАЛ (3 МЕСЯЦА)"
   ]
  },
  {
   "cell_type": "code",
   "execution_count": 289,
   "metadata": {},
   "outputs": [
    {
     "name": "stdout",
     "output_type": "stream",
     "text": [
      "Гипотеза принимается лишь в 60% при 1% уровне значимости\n",
      "Гипотеза принимается лишь в 55% при 5% уровне значимости\n"
     ]
    },
    {
     "data": {
      "image/png": "[encoded data removed]",
      "text/plain": [
       "<Figure size 2160x720 with 1 Axes>"
      ]
     },
     "metadata": {
      "needs_background": "light"
     },
     "output_type": "display_data"
    },
    {
     "name": "stdout",
     "output_type": "stream",
     "text": [
      "значение проверки на равномерность 4.7793625063075226e-09\n"
     ]
    }
   ],
   "source": [
    "years=[2016,2017,2018,2019,2020]\n",
    "p_real=pd.DataFrame(index=tickers)\n",
    "p_okrugl=pd.DataFrame(index=tickers)\n",
    "p_all=[]\n",
    "for year in years:\n",
    "    p_per_all=[]\n",
    "    p_per_all_okrug=[]\n",
    "    for com in companies:\n",
    "        diap=(com['DATE'] >= pd.to_datetime(f'{year}-01-01')) & (com['DATE'] <= pd.to_datetime(f'{year}-03-30 '))\n",
    "        p_znach=stats.shapiro(com[diap]['LOG LEAP'])[1]\n",
    "        p_znach_okrug=np.round(stats.shapiro(com[diap]['LOG LEAP'])[1],5)\n",
    "        p_per_all.append(p_znach)\n",
    "        p_per_all_okrug.append(p_znach_okrug)\n",
    "        p_all.append(p_znach)\n",
    "    p_real[str(year)]=p_per_all\n",
    "    p_okrugl[str(year)]=p_per_all_okrug\n",
    "\n",
    "k1,k5=0,0    \n",
    "for i in range(len(p_all)):\n",
    "    if p_all[i]>=0.01:\n",
    "        k1+=1\n",
    "    if p_all[i]>=0.05:\n",
    "        k5+=1\n",
    "        \n",
    "print(f\"Гипотеза принимается лишь в {k1/len(p_all):.0%} при 1% уровне значимости\") \n",
    "print(f\"Гипотеза принимается лишь в {k5/len(p_all):.0%} при 5% уровне значимости\") \n",
    "\n",
    "#построим гистограмму р-значений промежутка в полгода\n",
    "fig,ax =plt.subplots(figsize=(30, 10))\n",
    "plt.tick_params(labelsize = 25)\n",
    "plt.xlim(-0.1,1.1)\n",
    "plt.ylim(0.0,1.05)\n",
    "plt.plot(u, y, 'r-', lw=7, alpha=0.6)\n",
    "plt.hist(p_all,density=True,alpha=0.75, color='green')\n",
    "plt.title('Гистограмма P-values на отрезке в один квартал',fontsize=30)\n",
    "plt.show()\n",
    "pv = stats.kstest(p_all,'uniform')\n",
    "print('значение проверки на равномерность',pv[1])"
   ]
  },
  {
   "cell_type": "code",
   "execution_count": 290,
   "metadata": {
    "scrolled": true
   },
   "outputs": [
    {
     "data": {
      "text/html": [
       "<div>\n",
       "<style scoped>\n",
       "    .dataframe tbody tr th:only-of-type {\n",
       "        vertical-align: middle;\n",
       "    }\n",
       "\n",
       "    .dataframe tbody tr th {\n",
       "        vertical-align: top;\n",
       "    }\n",
       "\n",
       "    .dataframe thead th {\n",
       "        text-align: right;\n",
       "    }\n",
       "</style>\n",
       "<table border=\"1\" class=\"dataframe\">\n",
       "  <thead>\n",
       "    <tr style=\"text-align: right;\">\n",
       "      <th></th>\n",
       "      <th>2016</th>\n",
       "      <th>2017</th>\n",
       "      <th>2018</th>\n",
       "      <th>2019</th>\n",
       "      <th>2020</th>\n",
       "    </tr>\n",
       "  </thead>\n",
       "  <tbody>\n",
       "    <tr>\n",
       "      <th>ALV</th>\n",
       "      <td>0.63161</td>\n",
       "      <td>0.00570</td>\n",
       "      <td>0.00832</td>\n",
       "      <td>0.00064</td>\n",
       "      <td>0.00000</td>\n",
       "    </tr>\n",
       "    <tr>\n",
       "      <th>BAS</th>\n",
       "      <td>0.58922</td>\n",
       "      <td>0.31570</td>\n",
       "      <td>0.54158</td>\n",
       "      <td>0.00038</td>\n",
       "      <td>0.00001</td>\n",
       "    </tr>\n",
       "    <tr>\n",
       "      <th>BAYN</th>\n",
       "      <td>0.14370</td>\n",
       "      <td>0.38698</td>\n",
       "      <td>0.26983</td>\n",
       "      <td>0.00008</td>\n",
       "      <td>0.00027</td>\n",
       "    </tr>\n",
       "    <tr>\n",
       "      <th>BMW</th>\n",
       "      <td>0.12009</td>\n",
       "      <td>0.49366</td>\n",
       "      <td>0.40503</td>\n",
       "      <td>0.10166</td>\n",
       "      <td>0.00000</td>\n",
       "    </tr>\n",
       "    <tr>\n",
       "      <th>DPW</th>\n",
       "      <td>0.80293</td>\n",
       "      <td>0.97103</td>\n",
       "      <td>0.12681</td>\n",
       "      <td>0.89547</td>\n",
       "      <td>0.00044</td>\n",
       "    </tr>\n",
       "    <tr>\n",
       "      <th>DTE</th>\n",
       "      <td>0.28332</td>\n",
       "      <td>0.01205</td>\n",
       "      <td>0.99146</td>\n",
       "      <td>0.00004</td>\n",
       "      <td>0.00201</td>\n",
       "    </tr>\n",
       "    <tr>\n",
       "      <th>SAP</th>\n",
       "      <td>0.14120</td>\n",
       "      <td>0.84513</td>\n",
       "      <td>0.35158</td>\n",
       "      <td>0.11130</td>\n",
       "      <td>0.00110</td>\n",
       "    </tr>\n",
       "    <tr>\n",
       "      <th>SIE</th>\n",
       "      <td>0.00118</td>\n",
       "      <td>0.00022</td>\n",
       "      <td>0.07087</td>\n",
       "      <td>0.04621</td>\n",
       "      <td>0.00001</td>\n",
       "    </tr>\n",
       "  </tbody>\n",
       "</table>\n",
       "</div>"
      ],
      "text/plain": [
       "         2016     2017     2018     2019     2020\n",
       "ALV   0.63161  0.00570  0.00832  0.00064  0.00000\n",
       "BAS   0.58922  0.31570  0.54158  0.00038  0.00001\n",
       "BAYN  0.14370  0.38698  0.26983  0.00008  0.00027\n",
       "BMW   0.12009  0.49366  0.40503  0.10166  0.00000\n",
       "DPW   0.80293  0.97103  0.12681  0.89547  0.00044\n",
       "DTE   0.28332  0.01205  0.99146  0.00004  0.00201\n",
       "SAP   0.14120  0.84513  0.35158  0.11130  0.00110\n",
       "SIE   0.00118  0.00022  0.07087  0.04621  0.00001"
      ]
     },
     "execution_count": 290,
     "metadata": {},
     "output_type": "execute_result"
    }
   ],
   "source": [
    "p_okrugl"
   ]
  },
  {
   "cell_type": "code",
   "execution_count": 291,
   "metadata": {},
   "outputs": [],
   "source": [
    "p_okrugl.to_csv('p-values за квартал')"
   ]
  },
  {
   "cell_type": "code",
   "execution_count": null,
   "metadata": {},
   "outputs": [],
   "source": [
    "# ПРОМЕЖУТОК 1 МЕСЯЦ"
   ]
  },
  {
   "cell_type": "code",
   "execution_count": 292,
   "metadata": {},
   "outputs": [
    {
     "name": "stdout",
     "output_type": "stream",
     "text": [
      "Гипотеза принимается в 92% при 1% уровне значимости\n",
      "Гипотеза принимается в 88% при 5% уровне значимости\n"
     ]
    },
    {
     "data": {
      "image/png": "[encoded data removed]",
      "text/plain": [
       "<Figure size 2160x720 with 1 Axes>"
      ]
     },
     "metadata": {
      "needs_background": "light"
     },
     "output_type": "display_data"
    },
    {
     "name": "stdout",
     "output_type": "stream",
     "text": [
      "значение проверки на равномерность 0.28018\n"
     ]
    }
   ],
   "source": [
    "years=[2016,2017,2018,2019,2020]\n",
    "p_real=pd.DataFrame(index=tickers)\n",
    "p_okrugl=pd.DataFrame(index=tickers)\n",
    "p_all=[]\n",
    "for year in years:\n",
    "    p_per_all=[]\n",
    "    p_per_all_okrug=[]\n",
    "    for com in companies:\n",
    "        diap=(com['DATE'] >= pd.to_datetime(f'{year}-03-01')) & (com['DATE'] <= pd.to_datetime(f'{year}-03-30 '))\n",
    "        p_znach=stats.shapiro(com[diap]['LOG LEAP'])[1]\n",
    "        p_znach_okrug=np.round(stats.shapiro(com[diap]['LOG LEAP'])[1],5)\n",
    "        p_per_all.append(p_znach)\n",
    "        p_per_all_okrug.append(p_znach_okrug)\n",
    "        p_all.append(p_znach)\n",
    "    p_real[str(year)]=p_per_all\n",
    "    p_okrugl[str(year)]=p_per_all_okrug\n",
    "\n",
    "k1,k5=0,0    \n",
    "for i in range(len(p_all)):\n",
    "    if p_all[i]>=0.01:\n",
    "        k1+=1\n",
    "    if p_all[i]>=0.05:\n",
    "        k5+=1\n",
    "        \n",
    "print(f\"Гипотеза принимается в {k1/len(p_all):.0%} при 1% уровне значимости\") \n",
    "print(f\"Гипотеза принимается в {k5/len(p_all):.0%} при 5% уровне значимости\") \n",
    "\n",
    "#построим гистограмму р-значений промежутка в полгода\n",
    "fig,ax =plt.subplots(figsize=(30, 10))\n",
    "plt.tick_params(labelsize = 25)\n",
    "plt.xlim(-0.1,1.1)\n",
    "plt.ylim(0.0,1.05)\n",
    "plt.plot(u, y, 'r-', lw=7, alpha=0.6)\n",
    "plt.hist(p_all,bins=20,alpha=0.75, density=True, color='green')\n",
    "plt.title('Гистограмма P-values на отрезке в один месяц',fontsize=30)\n",
    "plt.show()\n",
    "pv = stats.kstest(p_all,'uniform')\n",
    "print('значение проверки на равномерность',np.round(pv[1],5))"
   ]
  },
  {
   "cell_type": "code",
   "execution_count": 293,
   "metadata": {},
   "outputs": [
    {
     "data": {
      "text/html": [
       "<div>\n",
       "<style scoped>\n",
       "    .dataframe tbody tr th:only-of-type {\n",
       "        vertical-align: middle;\n",
       "    }\n",
       "\n",
       "    .dataframe tbody tr th {\n",
       "        vertical-align: top;\n",
       "    }\n",
       "\n",
       "    .dataframe thead th {\n",
       "        text-align: right;\n",
       "    }\n",
       "</style>\n",
       "<table border=\"1\" class=\"dataframe\">\n",
       "  <thead>\n",
       "    <tr style=\"text-align: right;\">\n",
       "      <th></th>\n",
       "      <th>2016</th>\n",
       "      <th>2017</th>\n",
       "      <th>2018</th>\n",
       "      <th>2019</th>\n",
       "      <th>2020</th>\n",
       "    </tr>\n",
       "  </thead>\n",
       "  <tbody>\n",
       "    <tr>\n",
       "      <th>ALV</th>\n",
       "      <td>0.05014</td>\n",
       "      <td>0.84382</td>\n",
       "      <td>0.14729</td>\n",
       "      <td>0.93683</td>\n",
       "      <td>0.15385</td>\n",
       "    </tr>\n",
       "    <tr>\n",
       "      <th>BAS</th>\n",
       "      <td>0.44318</td>\n",
       "      <td>0.15685</td>\n",
       "      <td>0.47627</td>\n",
       "      <td>0.52246</td>\n",
       "      <td>0.33255</td>\n",
       "    </tr>\n",
       "    <tr>\n",
       "      <th>BAYN</th>\n",
       "      <td>0.99148</td>\n",
       "      <td>0.37145</td>\n",
       "      <td>0.14963</td>\n",
       "      <td>0.00168</td>\n",
       "      <td>0.57819</td>\n",
       "    </tr>\n",
       "    <tr>\n",
       "      <th>BMW</th>\n",
       "      <td>0.79613</td>\n",
       "      <td>0.39255</td>\n",
       "      <td>0.22171</td>\n",
       "      <td>0.23044</td>\n",
       "      <td>0.03613</td>\n",
       "    </tr>\n",
       "    <tr>\n",
       "      <th>DPW</th>\n",
       "      <td>0.12440</td>\n",
       "      <td>0.97144</td>\n",
       "      <td>0.65925</td>\n",
       "      <td>0.03588</td>\n",
       "      <td>0.71256</td>\n",
       "    </tr>\n",
       "    <tr>\n",
       "      <th>DTE</th>\n",
       "      <td>0.50307</td>\n",
       "      <td>0.56302</td>\n",
       "      <td>0.27058</td>\n",
       "      <td>0.00005</td>\n",
       "      <td>0.99288</td>\n",
       "    </tr>\n",
       "    <tr>\n",
       "      <th>SAP</th>\n",
       "      <td>0.48781</td>\n",
       "      <td>0.64899</td>\n",
       "      <td>0.81732</td>\n",
       "      <td>0.82715</td>\n",
       "      <td>0.48789</td>\n",
       "    </tr>\n",
       "    <tr>\n",
       "      <th>SIE</th>\n",
       "      <td>0.46452</td>\n",
       "      <td>0.48733</td>\n",
       "      <td>0.18221</td>\n",
       "      <td>0.00228</td>\n",
       "      <td>0.48151</td>\n",
       "    </tr>\n",
       "  </tbody>\n",
       "</table>\n",
       "</div>"
      ],
      "text/plain": [
       "         2016     2017     2018     2019     2020\n",
       "ALV   0.05014  0.84382  0.14729  0.93683  0.15385\n",
       "BAS   0.44318  0.15685  0.47627  0.52246  0.33255\n",
       "BAYN  0.99148  0.37145  0.14963  0.00168  0.57819\n",
       "BMW   0.79613  0.39255  0.22171  0.23044  0.03613\n",
       "DPW   0.12440  0.97144  0.65925  0.03588  0.71256\n",
       "DTE   0.50307  0.56302  0.27058  0.00005  0.99288\n",
       "SAP   0.48781  0.64899  0.81732  0.82715  0.48789\n",
       "SIE   0.46452  0.48733  0.18221  0.00228  0.48151"
      ]
     },
     "execution_count": 293,
     "metadata": {},
     "output_type": "execute_result"
    }
   ],
   "source": [
    "p_okrugl"
   ]
  },
  {
   "cell_type": "code",
   "execution_count": 294,
   "metadata": {},
   "outputs": [],
   "source": [
    "p_okrugl.to_csv('p-values за месяц')"
   ]
  },
  {
   "cell_type": "code",
   "execution_count": null,
   "metadata": {},
   "outputs": [],
   "source": []
  }
 ],
 "metadata": {
  "kernelspec": {
   "display_name": "Python 3",
   "language": "python",
   "name": "python3"
  },
  "language_info": {
   "codemirror_mode": {
    "name": "ipython",
    "version": 3
   },
   "file_extension": ".py",
   "mimetype": "text/x-python",
   "name": "python",
   "nbconvert_exporter": "python",
   "pygments_lexer": "ipython3",
   "version": "3.8.3"
  }
 },
 "nbformat": 4,
 "nbformat_minor": 4
}
